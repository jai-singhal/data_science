{
 "cells": [
  {
   "cell_type": "code",
   "execution_count": 2,
   "metadata": {
    "collapsed": true
   },
   "outputs": [],
   "source": [
    "class Base:\n",
    "    def __init__(self):\n",
    "        print(\"Base class\")\n",
    "    def f(self):\n",
    "        print(\"Base::f() called\")\n",
    "        \n",
    "class Derived(Base):\n",
    "    def __init__(self):\n",
    "        super().__init__()\n",
    "        print(\"Derived class\")\n",
    "    def f(self):\n",
    "        print(\"Derived::f() called\")\n",
    "        \n"
   ]
  },
  {
   "cell_type": "code",
   "execution_count": 3,
   "metadata": {
    "collapsed": false
   },
   "outputs": [
    {
     "name": "stdout",
     "output_type": "stream",
     "text": [
      "Base class\n",
      "Base::f() called\n"
     ]
    }
   ],
   "source": [
    "b = Base()\n",
    "b.f()"
   ]
  },
  {
   "cell_type": "code",
   "execution_count": 4,
   "metadata": {
    "collapsed": false
   },
   "outputs": [
    {
     "name": "stdout",
     "output_type": "stream",
     "text": [
      "Base class\n",
      "Derived class\n",
      "Derived::f() called\n"
     ]
    }
   ],
   "source": [
    "d = Derived()\n",
    "d.f()"
   ]
  },
  {
   "cell_type": "code",
   "execution_count": 55,
   "metadata": {
    "collapsed": true
   },
   "outputs": [],
   "source": [
    "#Example of creating list\n",
    "\n",
    "class MyList:\n",
    "    def __init__(self, *args, **kwargs):\n",
    "        self._items = list(args)\n",
    "        \n",
    "    def add(self, item):\n",
    "        self._items.append(item)\n",
    "    \n",
    "    def __getitem__(self, index):\n",
    "        if index > len(self._items):\n",
    "            raise IndexError(\"LIST INDEX OUT OF RANGE\")\n",
    "        return self._items[index]\n",
    "\n",
    "    def sort(self):\n",
    "        return self._items.sort()\n",
    "    \n",
    "    def __len__(self):\n",
    "        return len(self._items)\n",
    "    \n",
    "    def __repr__(self):\n",
    "        return \"MyList: {}\".format(self._items)\n",
    "    \n",
    "    \n",
    "class SortedList(MyList): #always make a list which is sorted\n",
    "    def __init__(self, *args, **kwargs):\n",
    "        super().__init__(*args, **kwargs)\n",
    "        self.sort()\n",
    "    \n",
    "    def add(self, value):\n",
    "        super().add(value)\n",
    "        self.sort()\n",
    "        \n",
    "    def __repr__(self):\n",
    "        return \"SortedList: {}\".format(self._items)\n"
   ]
  },
  {
   "cell_type": "code",
   "execution_count": 56,
   "metadata": {
    "collapsed": false
   },
   "outputs": [],
   "source": [
    "x = MyList(6, 4, 0, 10, 3, 4)\n",
    "y = SortedList(6, 4, 0, 10, 3, 4)\n",
    "\n",
    "x.add(1)\n",
    "y.add(1)"
   ]
  },
  {
   "cell_type": "code",
   "execution_count": 57,
   "metadata": {
    "collapsed": false
   },
   "outputs": [
    {
     "name": "stdout",
     "output_type": "stream",
     "text": [
      "[6, 4, 0, 10, 3, 4, 1]\n",
      "[0, 1, 3, 4, 4, 6, 10]\n"
     ]
    },
    {
     "ename": "IndexError",
     "evalue": "LIST INDEX OUT OF RANGE",
     "output_type": "error",
     "traceback": [
      "\u001b[0;31m---------------------------------------------------------------------------\u001b[0m",
      "\u001b[0;31mIndexError\u001b[0m                                Traceback (most recent call last)",
      "\u001b[0;32m<ipython-input-57-2e51a9014d15>\u001b[0m in \u001b[0;36m<module>\u001b[0;34m()\u001b[0m\n\u001b[1;32m      1\u001b[0m \u001b[0mprint\u001b[0m\u001b[0;34m(\u001b[0m\u001b[0mx\u001b[0m\u001b[0;34m.\u001b[0m\u001b[0m_items\u001b[0m\u001b[0;34m)\u001b[0m\u001b[0;34m\u001b[0m\u001b[0m\n\u001b[1;32m      2\u001b[0m \u001b[0mprint\u001b[0m\u001b[0;34m(\u001b[0m\u001b[0my\u001b[0m\u001b[0;34m.\u001b[0m\u001b[0m_items\u001b[0m\u001b[0;34m)\u001b[0m\u001b[0;34m\u001b[0m\u001b[0m\n\u001b[0;32m----> 3\u001b[0;31m \u001b[0mprint\u001b[0m\u001b[0;34m(\u001b[0m\u001b[0mx\u001b[0m\u001b[0;34m[\u001b[0m\u001b[0;36m10\u001b[0m\u001b[0;34m]\u001b[0m\u001b[0;34m)\u001b[0m\u001b[0;34m\u001b[0m\u001b[0m\n\u001b[0m",
      "\u001b[0;32m<ipython-input-55-a2e166768517>\u001b[0m in \u001b[0;36m__getitem__\u001b[0;34m(self, index)\u001b[0m\n\u001b[1;32m     10\u001b[0m     \u001b[0;32mdef\u001b[0m \u001b[0m__getitem__\u001b[0m\u001b[0;34m(\u001b[0m\u001b[0mself\u001b[0m\u001b[0;34m,\u001b[0m \u001b[0mindex\u001b[0m\u001b[0;34m)\u001b[0m\u001b[0;34m:\u001b[0m\u001b[0;34m\u001b[0m\u001b[0m\n\u001b[1;32m     11\u001b[0m         \u001b[0;32mif\u001b[0m \u001b[0mindex\u001b[0m \u001b[0;34m>\u001b[0m \u001b[0mlen\u001b[0m\u001b[0;34m(\u001b[0m\u001b[0mself\u001b[0m\u001b[0;34m.\u001b[0m\u001b[0m_items\u001b[0m\u001b[0;34m)\u001b[0m\u001b[0;34m:\u001b[0m\u001b[0;34m\u001b[0m\u001b[0m\n\u001b[0;32m---> 12\u001b[0;31m             \u001b[0;32mraise\u001b[0m \u001b[0mIndexError\u001b[0m\u001b[0;34m(\u001b[0m\u001b[0;34m\"LIST INDEX OUT OF RANGE\"\u001b[0m\u001b[0;34m)\u001b[0m\u001b[0;34m\u001b[0m\u001b[0m\n\u001b[0m\u001b[1;32m     13\u001b[0m         \u001b[0;32mreturn\u001b[0m \u001b[0mself\u001b[0m\u001b[0;34m.\u001b[0m\u001b[0m_items\u001b[0m\u001b[0;34m[\u001b[0m\u001b[0mindex\u001b[0m\u001b[0;34m]\u001b[0m\u001b[0;34m\u001b[0m\u001b[0m\n\u001b[1;32m     14\u001b[0m \u001b[0;34m\u001b[0m\u001b[0m\n",
      "\u001b[0;31mIndexError\u001b[0m: LIST INDEX OUT OF RANGE"
     ]
    }
   ],
   "source": [
    "print(x._items)\n",
    "print(y._items)\n",
    "print(x[10])"
   ]
  },
  {
   "cell_type": "markdown",
   "metadata": {},
   "source": [
    "## isInstance()\n",
    "determines if an object is of sepecied type\n",
    "Return True or False"
   ]
  },
  {
   "cell_type": "code",
   "execution_count": 67,
   "metadata": {
    "collapsed": false
   },
   "outputs": [
    {
     "data": {
      "text/plain": [
       "True"
      ]
     },
     "execution_count": 67,
     "metadata": {},
     "output_type": "execute_result"
    }
   ],
   "source": [
    "isinstance(3, int)"
   ]
  },
  {
   "cell_type": "code",
   "execution_count": 68,
   "metadata": {
    "collapsed": false
   },
   "outputs": [
    {
     "data": {
      "text/plain": [
       "True"
      ]
     },
     "execution_count": 68,
     "metadata": {},
     "output_type": "execute_result"
    }
   ],
   "source": [
    "isinstance(\"Jai\", str)"
   ]
  },
  {
   "cell_type": "code",
   "execution_count": 75,
   "metadata": {
    "collapsed": false
   },
   "outputs": [
    {
     "data": {
      "text/plain": [
       "True"
      ]
     },
     "execution_count": 75,
     "metadata": {},
     "output_type": "execute_result"
    }
   ],
   "source": [
    "isinstance(x or y, MyList)"
   ]
  },
  {
   "cell_type": "code",
   "execution_count": 90,
   "metadata": {
    "collapsed": false
   },
   "outputs": [
    {
     "data": {
      "text/plain": [
       "True"
      ]
     },
     "execution_count": 90,
     "metadata": {},
     "output_type": "execute_result"
    }
   ],
   "source": [
    "isinstance(4, (float, MyList, int))"
   ]
  },
  {
   "cell_type": "markdown",
   "metadata": {},
   "source": [
    "## Multiple Inheritance"
   ]
  },
  {
   "cell_type": "code",
   "execution_count": 99,
   "metadata": {
    "collapsed": false
   },
   "outputs": [],
   "source": [
    "class Base1:\n",
    "    def __init__(self):\n",
    "        print(\"Base1::__init__() called\")\n",
    "    \n",
    "    def f(self):\n",
    "        pass\n",
    "    \n",
    "class Base2:\n",
    "    def __init__(self):\n",
    "        print(\"Base2::__init__() called\")\n",
    "    \n",
    "    def g(self):\n",
    "        pass\n",
    "    \n",
    "    def f(self):\n",
    "        pass\n",
    "    \n",
    "class Derived(Base1, Base2):\n",
    "    pass\n",
    "#     def __init__(self):\n",
    "#         print(\"Derived::__init__() called\")\n",
    "    def h(self):\n",
    "        pass\n",
    "    \n",
    "    def f(self):\n",
    "        pass"
   ]
  },
  {
   "cell_type": "code",
   "execution_count": 97,
   "metadata": {
    "collapsed": false
   },
   "outputs": [
    {
     "name": "stdout",
     "output_type": "stream",
     "text": [
      "Base1::__init__() called\n"
     ]
    }
   ],
   "source": [
    "d = Derived() # if derived init is not present, it calls the init of base1(first base class inherited)"
   ]
  },
  {
   "cell_type": "code",
   "execution_count": 102,
   "metadata": {
    "collapsed": false
   },
   "outputs": [
    {
     "data": {
      "text/plain": [
       "[__main__.Derived, __main__.Base1, __main__.Base2, object]"
      ]
     },
     "execution_count": 102,
     "metadata": {},
     "output_type": "execute_result"
    }
   ],
   "source": [
    "Derived.mro() #Mro == Method resolution order:- It "
   ]
  },
  {
   "cell_type": "code",
   "execution_count": 111,
   "metadata": {
    "collapsed": false
   },
   "outputs": [
    {
     "data": {
      "text/plain": [
       "5"
      ]
     },
     "execution_count": 111,
     "metadata": {},
     "output_type": "execute_result"
    }
   ],
   "source": [
    "class MyClass:\n",
    "    x = 7 # so called public class varible\n",
    "    _bar = 6 # so called protected class variable\n",
    "    __foo = 5 #so called private class variable\n",
    "\n",
    "    def __init__(self):\n",
    "        pass\n",
    "    def f(self):\n",
    "        pass\n",
    "\n",
    "dir(MyClass)\n",
    "obj = MyClass()\n",
    "obj._MyClass__foo # can access the private variable"
   ]
  },
  {
   "cell_type": "code",
   "execution_count": 116,
   "metadata": {
    "collapsed": false
   },
   "outputs": [
    {
     "name": "stdout",
     "output_type": "stream",
     "text": [
      "__init__ called\n"
     ]
    }
   ],
   "source": [
    "class MyClass:\n",
    "    def __call__(cls, *args, **kwargs):\n",
    "        print(cls, args, kwargs)\n",
    "    def __init__(self):\n",
    "        print(\"__init__ called\")\n",
    "    def f(self):\n",
    "        pass\n",
    "    \n",
    "obj1 = MyClass()"
   ]
  },
  {
   "cell_type": "code",
   "execution_count": 128,
   "metadata": {
    "collapsed": false
   },
   "outputs": [
    {
     "name": "stdout",
     "output_type": "stream",
     "text": [
      "Base __init__\n",
      "Base __init__\n",
      "Derived __init__\n",
      "Derived: g\n",
      "Jai 21\n"
     ]
    }
   ],
   "source": [
    "class Base:\n",
    "    def __init__(self, *args, **kwargs):\n",
    "        print(\"Base __init__\")\n",
    "        self.name = \"Jai\"\n",
    "        \n",
    "    def f(self):\n",
    "        print(\"Base:f\")\n",
    "    \n",
    "class Derived(Base):\n",
    "    def __init__(self, *args, **kwargs):\n",
    "        super(self.__class__, self).__init__(*args, **kwargs)\n",
    "        #or\n",
    "        super(Derived, self).__init__(*args, **kwargs)\n",
    "        \n",
    "        print(\"Derived __init__\")\n",
    "        self.age = 21\n",
    "    \n",
    "    def g(self):\n",
    "        print(\"Derived: g\")\n",
    "        print(self.name, self.age)\n",
    "    \n",
    "d = Derived()\n",
    "d.g()"
   ]
  },
  {
   "cell_type": "code",
   "execution_count": null,
   "metadata": {
    "collapsed": true
   },
   "outputs": [],
   "source": []
  }
 ],
 "metadata": {
  "kernelspec": {
   "display_name": "Python 3",
   "language": "python",
   "name": "python3"
  },
  "language_info": {
   "codemirror_mode": {
    "name": "ipython",
    "version": 3
   },
   "file_extension": ".py",
   "mimetype": "text/x-python",
   "name": "python",
   "nbconvert_exporter": "python",
   "pygments_lexer": "ipython3",
   "version": "3.6.3"
  }
 },
 "nbformat": 4,
 "nbformat_minor": 2
}
