{
 "cells": [
  {
   "cell_type": "markdown",
   "metadata": {},
   "source": [
    "## Lopping Technique"
   ]
  },
  {
   "cell_type": "code",
   "execution_count": 31,
   "metadata": {
    "collapsed": false
   },
   "outputs": [
    {
     "name": "stdout",
     "output_type": "stream",
     "text": [
      "Jai\n",
      "dict_items([('age', 12), ('name', 'Jai'), ('sex', 'M')])\n",
      "age : 12\n",
      "name : Jai\n",
      "sex : M\n"
     ]
    }
   ],
   "source": [
    "dict_ = {\n",
    "        \"name\" : \"Jai\",\n",
    "        \"age\" : 12,\n",
    "        \"sex\" : \"M\",\n",
    "}\n",
    "print(dict_[\"name\"])\n",
    "print(dict_.items())              #dictionary.items() return list of tuples of 2(which are key and keyvalues)\n",
    "for key, item in dict_.items():\n",
    "    print(\"{0} : {1}\".format(key, item)) "
   ]
  },
  {
   "cell_type": "code",
   "execution_count": 33,
   "metadata": {
    "collapsed": false
   },
   "outputs": [
    {
     "name": "stdout",
     "output_type": "stream",
     "text": [
      "1 3 5 5 6 7 8 "
     ]
    }
   ],
   "source": [
    "list = [5,6,1,3,8,5,7]\n",
    "for i in sorted(list):\n",
    "    print(i, end = \" \")"
   ]
  },
  {
   "cell_type": "code",
   "execution_count": 36,
   "metadata": {
    "collapsed": false
   },
   "outputs": [
    {
     "name": "stdout",
     "output_type": "stream",
     "text": [
      "7 5 8 3 1 6 5 "
     ]
    }
   ],
   "source": [
    "for i in reversed(list):\n",
    "    print(i, end = \" \")"
   ]
  },
  {
   "cell_type": "code",
   "execution_count": 38,
   "metadata": {
    "collapsed": false
   },
   "outputs": [
    {
     "data": {
      "text/plain": [
       "'Jai'"
      ]
     },
     "execution_count": 38,
     "metadata": {},
     "output_type": "execute_result"
    }
   ],
   "source": [
    "str1, str2, str3 = \"\", \"Jai\", \"Singhal\"\n",
    "str1 or str2 or str3"
   ]
  },
  {
   "cell_type": "code",
   "execution_count": 61,
   "metadata": {
    "collapsed": false
   },
   "outputs": [
    {
     "name": "stdout",
     "output_type": "stream",
     "text": [
      "True\n",
      "True\n",
      "False\n",
      "True\n"
     ]
    }
   ],
   "source": [
    "##Comparing sequences of same types\n",
    "\n",
    "print([1,2,3] <= [1,2,4])\n",
    "print((1,6) < (2,4))\n",
    "print(\"Abashhas\" >= \"aaasdsdaasd\")\n",
    "print( (1, 4, [6,3]) > (1, 4, [6]))\n"
   ]
  }
 ],
 "metadata": {
  "kernelspec": {
   "display_name": "Python 3",
   "language": "python",
   "name": "python3"
  },
  "language_info": {
   "codemirror_mode": {
    "name": "ipython",
    "version": 3
   },
   "file_extension": ".py",
   "mimetype": "text/x-python",
   "name": "python",
   "nbconvert_exporter": "python",
   "pygments_lexer": "ipython3",
   "version": "3.5.2"
  }
 },
 "nbformat": 4,
 "nbformat_minor": 2
}
