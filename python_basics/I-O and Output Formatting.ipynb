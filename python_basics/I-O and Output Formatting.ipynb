{
 "cells": [
  {
   "cell_type": "markdown",
   "metadata": {
    "collapsed": false,
    "deletable": true,
    "editable": true
   },
   "source": [
    "repr or str are the functions to convert any data type to string\n",
    "str(1) == repr()"
   ]
  },
  {
   "cell_type": "code",
   "execution_count": 28,
   "metadata": {
    "collapsed": false,
    "deletable": true,
    "editable": true
   },
   "outputs": [
    {
     "name": "stdout",
     "output_type": "stream",
     "text": [
      " 1    1     1\n",
      " 2    4     8\n",
      " 3    9    27\n",
      " 4   16    64\n",
      " 5   25   125\n"
     ]
    }
   ],
   "source": [
    "for x in range(1,6):\n",
    "    print(str(x).rjust(2), repr(x*x).rjust(4), end = ' ')\n",
    "    print(str(x*x*x).rjust(5))"
   ]
  },
  {
   "cell_type": "code",
   "execution_count": 112,
   "metadata": {
    "collapsed": false,
    "deletable": true,
    "editable": true
   },
   "outputs": [
    {
     "data": {
      "text/plain": [
       "'(1, 3, 6, [1, 8])'"
      ]
     },
     "execution_count": 112,
     "metadata": {},
     "output_type": "execute_result"
    }
   ],
   "source": [
    "list = [1,2,4,6]\n",
    "listr = repr(list)\n",
    "#lists = str(list) #cannot convert string to list or tuple\n",
    "obj = (1,3,6, [1,8])\n",
    "repr(obj)\n",
    "# str(obj) #gives error.That is the fucking difference"
   ]
  },
  {
   "cell_type": "code",
   "execution_count": 41,
   "metadata": {
    "collapsed": false,
    "deletable": true,
    "editable": true
   },
   "outputs": [
    {
     "name": "stdout",
     "output_type": "stream",
     "text": [
      "Name : Jai\n",
      "age : 12\n",
      "sex : M\n"
     ]
    }
   ],
   "source": [
    "list1 = [\"Name\", \"age\", \"sex\"]\n",
    "list2 = [\"Jai\", \"12\", \"M\"]\n",
    "for x,y in zip(list1, list2):   #looping technique 1\n",
    "    print(\"{0} : {1}\".format(x,y))"
   ]
  },
  {
   "cell_type": "code",
   "execution_count": 44,
   "metadata": {
    "collapsed": false,
    "deletable": true,
    "editable": true
   },
   "outputs": [
    {
     "name": "stdout",
     "output_type": "stream",
     "text": [
      "  1   1    1\n",
      "  2   4    8\n",
      "  3   9   27\n",
      "  4  16   64\n",
      "  5  25  125\n"
     ]
    }
   ],
   "source": [
    "for x in range(1,6):\n",
    "    print(\"{0:3d} {1:3d} {2:4d}\".format(x,x*x,x*x*x))"
   ]
  },
  {
   "cell_type": "code",
   "execution_count": 47,
   "metadata": {
    "collapsed": false,
    "deletable": true,
    "editable": true
   },
   "outputs": [
    {
     "data": {
      "text/plain": [
       "'0000005.64'"
      ]
     },
     "execution_count": 47,
     "metadata": {},
     "output_type": "execute_result"
    }
   ],
   "source": [
    "str = \"5.64\"\n",
    "str.zfill(10)"
   ]
  },
  {
   "cell_type": "code",
   "execution_count": 64,
   "metadata": {
    "collapsed": false,
    "deletable": true,
    "editable": true
   },
   "outputs": [
    {
     "name": "stdout",
     "output_type": "stream",
     "text": [
      "They play the football\n",
      "They football the play\n",
      "They play the football\n",
      "this is 5th Example by Jai for 5.5\n"
     ]
    }
   ],
   "source": [
    "print(\"They {} the {}\".format(\"play\", \"football\"))\n",
    "print(\"They {1} the {0}\".format(\"play\", \"football\"))\n",
    "print(\"They {do} the {game}\".format(do = \"play\", game = \"football\"))\n",
    "str = \"Jai\"\n",
    "a= 5\n",
    "b = 5.5      \n",
    "print(\"this is {0}th Example by {1} for {2}\".format(a,str,b))"
   ]
  },
  {
   "cell_type": "markdown",
   "metadata": {
    "deletable": true,
    "editable": true
   },
   "source": [
    "## File I/O"
   ]
  },
  {
   "cell_type": "markdown",
   "metadata": {
    "collapsed": true,
    "deletable": true,
    "editable": true
   },
   "source": [
    "open() returns a file object, and is most commonly used with two arguments: open(filename, mode)\n",
    "\n",
    "The first argument is a string containing the filename. The second argument is another string containing a few characters describing the way in which the file will be used. mode can be 'r' when the file will only be read, 'w' for only writing (an existing file with the same name will be erased), and 'a' opens the file for appending; any data written to the file is automatically added to the end. 'r+' opens the file for both reading and writing. The mode argument is optional; 'r' will be assumed if it’s omitted.\n",
    "\n",
    "\n",
    "Let The file \"test.txt\" be,\n",
    "Hi there.\n",
    "My name is Jai Singhal\n",
    "Welcome to Jupyer Notebook"
   ]
  },
  {
   "cell_type": "code",
   "execution_count": 80,
   "metadata": {
    "collapsed": false,
    "deletable": true,
    "editable": true
   },
   "outputs": [
    {
     "data": {
      "text/plain": [
       "'Hi there.\\nMy name is Jai Singhal\\nWelcome to Jupyer Notebook'"
      ]
     },
     "execution_count": 80,
     "metadata": {},
     "output_type": "execute_result"
    }
   ],
   "source": [
    "f = open(\"test.txt\", \"r\")\n",
    "f.read()\n"
   ]
  },
  {
   "cell_type": "code",
   "execution_count": 129,
   "metadata": {
    "collapsed": false,
    "deletable": true,
    "editable": true
   },
   "outputs": [],
   "source": [
    "#File pointer after reading is at end..so if we write f.read, irt display empty string\n",
    "f.read()\n"
   ]
  },
  {
   "cell_type": "code",
   "execution_count": 132,
   "metadata": {
    "collapsed": false,
    "deletable": true,
    "editable": true
   },
   "outputs": [
    {
     "name": "stdout",
     "output_type": "stream",
     "text": [
      "jaisinghal12112212ue)\n",
      "\n"
     ]
    }
   ],
   "source": [
    "f = open(\"test.txt\", \"r\")\n",
    "print(f.readline())\n",
    "print(f.readline())\n",
    "f.close()"
   ]
  },
  {
   "cell_type": "code",
   "execution_count": 133,
   "metadata": {
    "collapsed": false,
    "deletable": true,
    "editable": true
   },
   "outputs": [
    {
     "name": "stdout",
     "output_type": "stream",
     "text": [
      "jaisinghal12112212ue) "
     ]
    }
   ],
   "source": [
    "f = open(\"test.txt\", \"r\")\n",
    "for line in f:\n",
    "    print(line, end = \" \")\n",
    "f.close()"
   ]
  },
  {
   "cell_type": "code",
   "execution_count": 135,
   "metadata": {
    "collapsed": false,
    "deletable": true,
    "editable": true
   },
   "outputs": [],
   "source": [
    "f = open(\"file.txt\", \"w\")\n",
    "f.write(\"Overwrite the text with this\")    # return the number of character written\n",
    "f = open(\"file.txt\", \"r\")\n",
    "f.read()\n",
    "f.close()"
   ]
  },
  {
   "cell_type": "code",
   "execution_count": 136,
   "metadata": {
    "collapsed": false,
    "deletable": true,
    "editable": true
   },
   "outputs": [
    {
     "name": "stdout",
     "output_type": "stream",
     "text": [
      "('Hi there', 5, True)\n"
     ]
    }
   ],
   "source": [
    "tuple_ = (\"Hi there\", 5, True)\n",
    "tupe_str = repr(tuple_)\n",
    "f = open(\"test.txt\", \"w\")\n",
    "f.write(tupe_str)\n",
    "f = open(\"test.txt\", \"r\")\n",
    "print(f.read())\n",
    "f.close()"
   ]
  },
  {
   "cell_type": "code",
   "execution_count": 140,
   "metadata": {
    "collapsed": false,
    "deletable": true,
    "editable": true
   },
   "outputs": [
    {
     "data": {
      "text/plain": [
       "\"isinghal', 5, True)\""
      ]
     },
     "execution_count": 140,
     "metadata": {},
     "output_type": "execute_result"
    }
   ],
   "source": [
    "str = \"jaisinghal\"\n",
    "f = open(\"test.txt\", \"r+\")   #for read and write\n",
    "f.write(str)\n",
    "f.seek(2)\n",
    "f.read()"
   ]
  },
  {
   "cell_type": "code",
   "execution_count": 161,
   "metadata": {
    "collapsed": false,
    "deletable": true,
    "editable": true
   },
   "outputs": [
    {
     "data": {
      "text/plain": [
       "'sasasasasasasasasasasa'"
      ]
     },
     "execution_count": 161,
     "metadata": {},
     "output_type": "execute_result"
    }
   ],
   "source": [
    "f = open(\"test.txt\", \"a+\")  #append and read\n",
    "f.write(\"sasasasa\")\n",
    "f.seek(2)\n",
    "f.read()"
   ]
  }
 ],
 "metadata": {
  "kernelspec": {
   "display_name": "Python 3",
   "language": "python",
   "name": "python3"
  },
  "language_info": {
   "codemirror_mode": {
    "name": "ipython",
    "version": 3
   },
   "file_extension": ".py",
   "mimetype": "text/x-python",
   "name": "python",
   "nbconvert_exporter": "python",
   "pygments_lexer": "ipython3",
   "version": "3.5.2"
  }
 },
 "nbformat": 4,
 "nbformat_minor": 2
}
