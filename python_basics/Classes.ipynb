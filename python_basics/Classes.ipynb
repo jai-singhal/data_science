{
 "cells": [
  {
   "cell_type": "code",
   "execution_count": 3,
   "metadata": {
    "collapsed": false
   },
   "outputs": [
    {
     "name": "stdout",
     "output_type": "stream",
     "text": [
      "1\n"
     ]
    }
   ],
   "source": [
    "# Simple Class\n",
    "class Test:\n",
    "    def __init__(self):\n",
    "        self.a = 1 #instance variable\n",
    "        \n",
    "    def fun(self):\n",
    "        print(self.a)\n",
    "\n",
    "test1 = Test()\n",
    "test1.fun()"
   ]
  },
  {
   "cell_type": "markdown",
   "metadata": {},
   "source": [
    "### Class variable vs Instance variable\n",
    "\n",
    "- In Python, instance variables are variables whose value is assigned inside a constructor or __method__ with __self__.\n",
    "\n",
    "- Class variables are variables whose value is assigned in class."
   ]
  },
  {
   "cell_type": "code",
   "execution_count": 7,
   "metadata": {
    "collapsed": false
   },
   "outputs": [
    {
     "name": "stdout",
     "output_type": "stream",
     "text": [
      "Jai\n",
      "1\n",
      "1\n"
     ]
    }
   ],
   "source": [
    "class Student:\n",
    "    total_student = 0 # class variable\n",
    "    def __init__(self, name):\n",
    "        self.name = name # instance variable\n",
    "        Student.total_student += 1\n",
    "        self.roll = Student.total_student  # Class variable should be accessed by the Class name\n",
    "    \n",
    "    def set_branch(self, branch):\n",
    "        self.branch = branch #instance variable\n",
    "        \n",
    "st1 = Student(\"Jai\")\n",
    "print(st1.name)\n",
    "print(st1.total_student)\n",
    "print(st1.roll)"
   ]
  },
  {
   "cell_type": "code",
   "execution_count": 8,
   "metadata": {
    "collapsed": false
   },
   "outputs": [
    {
     "ename": "AttributeError",
     "evalue": "'Student' object has no attribute 'branch'",
     "output_type": "error",
     "traceback": [
      "\u001b[0;31m---------------------------------------------------------------------------\u001b[0m",
      "\u001b[0;31mAttributeError\u001b[0m                            Traceback (most recent call last)",
      "\u001b[0;32m<ipython-input-8-74dcc78b7401>\u001b[0m in \u001b[0;36m<module>\u001b[0;34m()\u001b[0m\n\u001b[0;32m----> 1\u001b[0;31m \u001b[0mprint\u001b[0m\u001b[0;34m(\u001b[0m\u001b[0mst1\u001b[0m\u001b[0;34m.\u001b[0m\u001b[0mbranch\u001b[0m\u001b[0;34m)\u001b[0m\u001b[0;34m\u001b[0m\u001b[0m\n\u001b[0m",
      "\u001b[0;31mAttributeError\u001b[0m: 'Student' object has no attribute 'branch'"
     ]
    }
   ],
   "source": [
    "print(st1.branch)"
   ]
  },
  {
   "cell_type": "code",
   "execution_count": 9,
   "metadata": {
    "collapsed": false
   },
   "outputs": [
    {
     "data": {
      "text/plain": [
       "'CS'"
      ]
     },
     "execution_count": 9,
     "metadata": {},
     "output_type": "execute_result"
    }
   ],
   "source": [
    "st1.set_branch(\"CS\")\n",
    "st1.branch"
   ]
  },
  {
   "cell_type": "markdown",
   "metadata": {},
   "source": [
    "## Data hiding \n",
    "\n",
    "In Python, we use double underscore (Or __) before the attributes name and those attributes will not be directly visible outside."
   ]
  },
  {
   "cell_type": "code",
   "execution_count": 45,
   "metadata": {
    "collapsed": true
   },
   "outputs": [],
   "source": [
    "class MyClass:\n",
    "    __hidden_variable = 0 # hidden variable outside the class\n",
    "    \n",
    "    def increment(self, inc):\n",
    "        MyClass.__hidden_variable += inc\n",
    "    \n",
    "    def get_hid_var(self):\n",
    "        print(\"Class variable is {}\".format(MyClass.__hidden_variable))\n",
    "        return MyClass.__hidden_variable"
   ]
  },
  {
   "cell_type": "code",
   "execution_count": 43,
   "metadata": {
    "collapsed": false
   },
   "outputs": [
    {
     "name": "stdout",
     "output_type": "stream",
     "text": [
      "__hidden_variable is Hidden\n",
      "Class variable is 5\n",
      "Instance variable is 5\n"
     ]
    },
    {
     "data": {
      "text/plain": [
       "5"
      ]
     },
     "execution_count": 43,
     "metadata": {},
     "output_type": "execute_result"
    }
   ],
   "source": [
    "n1 = MyClass()\n",
    "n1.increment(5)\n",
    "try:\n",
    "    print(n1.__hidden_variable)\n",
    "except AttributeError:\n",
    "    print(\"__hidden_variable is Hidden\")\n",
    "n1.get_hid_var()"
   ]
  },
  {
   "cell_type": "code",
   "execution_count": 44,
   "metadata": {
    "collapsed": false
   },
   "outputs": [
    {
     "name": "stdout",
     "output_type": "stream",
     "text": [
      "__hidden_variable is Hidden\n",
      "Class variable is 15\n",
      "Instance variable is 15\n"
     ]
    },
    {
     "data": {
      "text/plain": [
       "15"
      ]
     },
     "execution_count": 44,
     "metadata": {},
     "output_type": "execute_result"
    }
   ],
   "source": [
    "n2 = MyClass()\n",
    "n2.increment(10)\n",
    "try:\n",
    "    print(n2.__hidden_variable)\n",
    "except AttributeError:\n",
    "    print(\"__hidden_variable is Hidden\")\n",
    "n2.get_hid_var()"
   ]
  },
  {
   "cell_type": "code",
   "execution_count": 48,
   "metadata": {
    "collapsed": false
   },
   "outputs": [
    {
     "name": "stdout",
     "output_type": "stream",
     "text": [
      "0\n"
     ]
    }
   ],
   "source": [
    "\"\"\"\n",
    "Private methods are accessible outside their class, just not easily accessible. \n",
    "Nothing in Python is truly private; internally, the names of private methods and \n",
    "attributes are mangled and unmangled on the fly to make them seem inaccessible by \n",
    "their given names \n",
    "\"\"\"\n",
    "\n",
    "myObject = MyClass()     \n",
    "print(myObject._MyClass__hidden_variable)\n"
   ]
  },
  {
   "cell_type": "code",
   "execution_count": null,
   "metadata": {
    "collapsed": true
   },
   "outputs": [],
   "source": [
    "# Prini"
   ]
  },
  {
   "cell_type": "code",
   "execution_count": 27,
   "metadata": {
    "collapsed": false
   },
   "outputs": [
    {
     "name": "stdout",
     "output_type": "stream",
     "text": [
      "5\n",
      "15\n",
      "15\n",
      "15\n"
     ]
    },
    {
     "data": {
      "text/plain": [
       "self.cls_var = 5, MyClass.cls_var: 15"
      ]
     },
     "execution_count": 27,
     "metadata": {},
     "output_type": "execute_result"
    }
   ],
   "source": [
    "class MyClass:\n",
    "    cls_var = 0 # class variable\n",
    "        \n",
    "    def increment(self, incre):\n",
    "        self.cls_var += incre\n",
    "        MyClass.cls_var += incre\n",
    "        \n",
    "    def print_var(self):\n",
    "        print(self.cls_var) #Choice 1\n",
    "        print(MyClass.cls_var) # Choice 2\n",
    "    def __str__(self):\n",
    "        return \"%s%s\" %(self.cls_var, MyClass.cls_var)\n",
    "    def __repr__(self):\n",
    "        return \"self.cls_var = %s, MyClass.cls_var: %s\" %(self.cls_var, MyClass.cls_var)\n",
    "        \n",
    "obj1 = MyClass()\n",
    "obj2 = MyClass()\n",
    "\n",
    "obj1.increment(5)\n",
    "obj2.increment(10)\n",
    "\n",
    "obj1.print_var() #prints 5, 15\n",
    "obj2.print_var() # prints 15, 15\n",
    "obj1\n",
    "    "
   ]
  },
  {
   "cell_type": "markdown",
   "metadata": {},
   "source": [
    "## Printing objects\n",
    "\n",
    "Done using __str__ or __repr__\n",
    "\n",
    "difference between them is \n",
    "str() is used for creating output for end user while repr() is mainly used for debugging and development. repr’s goal is to be unambiguous and str’s is to be readable"
   ]
  },
  {
   "cell_type": "markdown",
   "metadata": {
    "collapsed": true
   },
   "source": [
    "## CLASS METHODS"
   ]
  },
  {
   "cell_type": "markdown",
   "metadata": {},
   "source": [
    "### @classmethod\n",
    "\n",
    "- A class method is a method which is bound to the class and not the object of the class.\n",
    "- They have the access to the state of the class as it takes a class parameter that points to the class and not the object instance.\n",
    "- It can modify a class state that would apply across all the instances of the class. For example it can modify a class variable that will be applicable to all the instances."
   ]
  },
  {
   "cell_type": "raw",
   "metadata": {},
   "source": [
    "class MyClass:\n",
    "    def __init__(self):\n",
    "        ...\n",
    "    @classmethod\n",
    "    def my_method(cls, arg1, .., kwarg1, ...):\n",
    "        ..."
   ]
  },
  {
   "cell_type": "markdown",
   "metadata": {},
   "source": [
    "### @staticmethod\n",
    "- A static method is also a method which is bound to the class and not the object of the class.\n",
    "- A static method can’t access or modify class state.\n",
    "- It is present in a class because it makes sense for the method to be present in class"
   ]
  },
  {
   "cell_type": "raw",
   "metadata": {},
   "source": [
    "class MyClass:\n",
    "    def __init__(self):\n",
    "        ...\n",
    "    @staticmethod\n",
    "    def my_method(cls, arg1, .., kwarg1, ...):\n",
    "        ..."
   ]
  },
  {
   "cell_type": "markdown",
   "metadata": {},
   "source": [
    "### Class method vs Static Method\n",
    "\n",
    "- A class method takes cls as first parameter while a static method needs no specific parameters.\n",
    "- A class method can access or modify class state while a static method can’t access or modify it.\n",
    "- We use @classmethod decorator in python to create a class method and we use @staticmethod decorator to create a static method in python.\n",
    "\n",
    "When to use what?\n",
    "\n",
    "\n",
    "- We generally use class method to create factory methods. Factory methods return class object ( similar to a constructor ) for different use cases.\n",
    "- We generally use static methods to create utility functions."
   ]
  },
  {
   "cell_type": "code",
   "execution_count": 13,
   "metadata": {
    "collapsed": false
   },
   "outputs": [
    {
     "name": "stdout",
     "output_type": "stream",
     "text": [
      "name: abc123, age: 20, branch: Mechanical, class: BG1\n",
      "name: abc123, age: 20, branch: CSE, class: BG1\n",
      "CSE\n",
      "name: jai, age: None, branch: CSE, class: None\n"
     ]
    }
   ],
   "source": [
    "class Student:\n",
    "    branch = \"CSE\"\n",
    "    college = \"XYZ\"\n",
    "    def __init__(self, name, cls, age):\n",
    "        self.name = name\n",
    "        self.age = age\n",
    "        self.cls = cls\n",
    "        \n",
    "    @staticmethod\n",
    "    def isEligible(age):\n",
    "        return age > 18\n",
    "    \n",
    "    @property\n",
    "    def getBranch(self):\n",
    "        return self.branch\n",
    "    \n",
    "    @classmethod\n",
    "    def changeBranch(cls, newBranch):\n",
    "        cls.branch = newBranch\n",
    "        \n",
    "    def changeBranch1(self, newBranch):\n",
    "        Student.branch = newBranch\n",
    "    \n",
    "    def studentInfo(self):\n",
    "        print(\"name: {0}, age: {1}, branch: {2}, class: {3}\".format( self.name, self.age, self.getBranch, self.cls))\n",
    "        \n",
    "    @classmethod    \n",
    "    def createEmptyStudent(cls, name):\n",
    "        return cls(name, None, None)\n",
    "    \n",
    "    \n",
    "    \n",
    "s1 = Student(\"abc123\", \"BG1\", 20)\n",
    "s1.changeBranch(\"Mechanical\")\n",
    "s1.studentInfo()\n",
    "s1.changeBranch(\"CSE\")\n",
    "s1.studentInfo()\n",
    "print(s1.getBranch)\n",
    "\n",
    "s2 = Student.createEmptyStudent(\"jai\")\n",
    "s2.studentInfo()\n"
   ]
  },
  {
   "cell_type": "markdown",
   "metadata": {
    "collapsed": false
   },
   "source": [
    "## Encapsulation using @property method\n",
    "\n",
    "used for getter method, to extract the inforamtion without calling the funtion, see above"
   ]
  },
  {
   "cell_type": "code",
   "execution_count": 2,
   "metadata": {
    "collapsed": false
   },
   "outputs": [],
   "source": [
    "class Temerature:\n",
    "    def __init__(self, celcius):\n",
    "        self.celcius = celcius\n",
    "        \n",
    "    @property\n",
    "    def celcius(self):\n",
    "        return self.celcius\n",
    "    \n",
    "    @celcius.setter\n",
    "    def celcius(self, celcius):\n",
    "        if celcius > 50:\n",
    "            raise ValueError(\"Too Hot!!\")\n",
    "        self._celcius = celcius\n",
    "    \n",
    "    @staticmethod\n",
    "    def c_to_f(celcius):\n",
    "        return (celcius) * 9/5 + 32\n",
    "    \n",
    "    @staticmethod\n",
    "    def f_to_c(fahernite):\n",
    "        return (fahernite - 32) * 5/9\n",
    "    \n",
    "    @property  #getter method for fahernite\n",
    "    def fahernite(self):\n",
    "        self.fahernite = c_to_f(self.celcius)\n",
    "    \n",
    "    @fahernite.setter  #setter function for faherenite\n",
    "    def fahernite(self, value):\n",
    "        if f_to_c(value) > 50:\n",
    "            raise ValueError(\"Too Hot!!\")\n",
    "        self.fahernite = value\n",
    "        "
   ]
  },
  {
   "cell_type": "code",
   "execution_count": 3,
   "metadata": {
    "collapsed": false
   },
   "outputs": [
    {
     "ename": "ValueError",
     "evalue": "Too Hot!!",
     "output_type": "error",
     "traceback": [
      "\u001b[0;31m---------------------------------------------------------------------------\u001b[0m",
      "\u001b[0;31mValueError\u001b[0m                                Traceback (most recent call last)",
      "\u001b[0;32m<ipython-input-3-2ee4e5dd0ece>\u001b[0m in \u001b[0;36m<module>\u001b[0;34m()\u001b[0m\n\u001b[0;32m----> 1\u001b[0;31m \u001b[0ms\u001b[0m \u001b[0;34m=\u001b[0m \u001b[0mTemerature\u001b[0m\u001b[0;34m(\u001b[0m\u001b[0;36m52\u001b[0m\u001b[0;34m)\u001b[0m\u001b[0;34m\u001b[0m\u001b[0m\n\u001b[0m",
      "\u001b[0;32m<ipython-input-2-462b1782bce7>\u001b[0m in \u001b[0;36m__init__\u001b[0;34m(self, celcius)\u001b[0m\n\u001b[1;32m      1\u001b[0m \u001b[0;32mclass\u001b[0m \u001b[0mTemerature\u001b[0m\u001b[0;34m:\u001b[0m\u001b[0;34m\u001b[0m\u001b[0m\n\u001b[1;32m      2\u001b[0m     \u001b[0;32mdef\u001b[0m \u001b[0m__init__\u001b[0m\u001b[0;34m(\u001b[0m\u001b[0mself\u001b[0m\u001b[0;34m,\u001b[0m \u001b[0mcelcius\u001b[0m\u001b[0;34m)\u001b[0m\u001b[0;34m:\u001b[0m\u001b[0;34m\u001b[0m\u001b[0m\n\u001b[0;32m----> 3\u001b[0;31m         \u001b[0mself\u001b[0m\u001b[0;34m.\u001b[0m\u001b[0mcelcius\u001b[0m \u001b[0;34m=\u001b[0m \u001b[0mcelcius\u001b[0m\u001b[0;34m\u001b[0m\u001b[0m\n\u001b[0m\u001b[1;32m      4\u001b[0m \u001b[0;34m\u001b[0m\u001b[0m\n\u001b[1;32m      5\u001b[0m     \u001b[0;34m@\u001b[0m\u001b[0mproperty\u001b[0m\u001b[0;34m\u001b[0m\u001b[0m\n",
      "\u001b[0;32m<ipython-input-2-462b1782bce7>\u001b[0m in \u001b[0;36mcelcius\u001b[0;34m(self, celcius)\u001b[0m\n\u001b[1;32m     10\u001b[0m     \u001b[0;32mdef\u001b[0m \u001b[0mcelcius\u001b[0m\u001b[0;34m(\u001b[0m\u001b[0mself\u001b[0m\u001b[0;34m,\u001b[0m \u001b[0mcelcius\u001b[0m\u001b[0;34m)\u001b[0m\u001b[0;34m:\u001b[0m\u001b[0;34m\u001b[0m\u001b[0m\n\u001b[1;32m     11\u001b[0m         \u001b[0;32mif\u001b[0m \u001b[0mcelcius\u001b[0m \u001b[0;34m>\u001b[0m \u001b[0;36m50\u001b[0m\u001b[0;34m:\u001b[0m\u001b[0;34m\u001b[0m\u001b[0m\n\u001b[0;32m---> 12\u001b[0;31m             \u001b[0;32mraise\u001b[0m \u001b[0mValueError\u001b[0m\u001b[0;34m(\u001b[0m\u001b[0;34m\"Too Hot!!\"\u001b[0m\u001b[0;34m)\u001b[0m\u001b[0;34m\u001b[0m\u001b[0m\n\u001b[0m\u001b[1;32m     13\u001b[0m         \u001b[0mself\u001b[0m\u001b[0;34m.\u001b[0m\u001b[0m_celcius\u001b[0m \u001b[0;34m=\u001b[0m \u001b[0mcelcius\u001b[0m\u001b[0;34m\u001b[0m\u001b[0m\n\u001b[1;32m     14\u001b[0m \u001b[0;34m\u001b[0m\u001b[0m\n",
      "\u001b[0;31mValueError\u001b[0m: Too Hot!!"
     ]
    }
   ],
   "source": [
    "s = Temerature(52)"
   ]
  },
  {
   "cell_type": "code",
   "execution_count": 4,
   "metadata": {
    "collapsed": false
   },
   "outputs": [],
   "source": [
    "s = Temerature(40)\n"
   ]
  }
 ],
 "metadata": {
  "kernelspec": {
   "display_name": "Python 3",
   "language": "python",
   "name": "python3"
  },
  "language_info": {
   "codemirror_mode": {
    "name": "ipython",
    "version": 3
   },
   "file_extension": ".py",
   "mimetype": "text/x-python",
   "name": "python",
   "nbconvert_exporter": "python",
   "pygments_lexer": "ipython3",
   "version": "3.6.3"
  }
 },
 "nbformat": 4,
 "nbformat_minor": 2
}
