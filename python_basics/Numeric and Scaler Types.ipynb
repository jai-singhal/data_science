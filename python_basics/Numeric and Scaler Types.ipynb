{
 "cells": [
  {
   "cell_type": "markdown",
   "metadata": {
    "collapsed": false
   },
   "source": [
    "# Datetime"
   ]
  },
  {
   "cell_type": "code",
   "execution_count": 35,
   "metadata": {
    "collapsed": false
   },
   "outputs": [],
   "source": [
    "from datetime import time, date, datetime"
   ]
  },
  {
   "cell_type": "code",
   "execution_count": 50,
   "metadata": {
    "collapsed": false
   },
   "outputs": [
    {
     "name": "stdout",
     "output_type": "stream",
     "text": [
      "myDate Date is: 30/7/2017\n",
      "2017-07-30\n"
     ]
    }
   ],
   "source": [
    "myDate = date(2017, 7, 30)\n",
    "print(\"myDate Date is: {}/{}/{}\".format(myDate.day, myDate.month, myDate.year))\n",
    "print(myDate)"
   ]
  },
  {
   "cell_type": "code",
   "execution_count": 42,
   "metadata": {
    "collapsed": false
   },
   "outputs": [
    {
     "name": "stdout",
     "output_type": "stream",
     "text": [
      "Current time is: 15:30:56\n",
      "15:30:56\n"
     ]
    }
   ],
   "source": [
    "myTime = time(15, 30, 56)\n",
    "print(\"myTime time is: {}:{}:{}\".format(myTime.hour, myTime.minute, myTime.second))\n",
    "print(myTime)"
   ]
  }
 ],
 "metadata": {
  "kernelspec": {
   "display_name": "Python 3",
   "language": "python",
   "name": "python3"
  },
  "language_info": {
   "codemirror_mode": {
    "name": "ipython",
    "version": 3
   },
   "file_extension": ".py",
   "mimetype": "text/x-python",
   "name": "python",
   "nbconvert_exporter": "python",
   "pygments_lexer": "ipython3",
   "version": "3.6.3"
  }
 },
 "nbformat": 4,
 "nbformat_minor": 2
}
