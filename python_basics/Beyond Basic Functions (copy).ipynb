{
 "cells": [
  {
   "cell_type": "markdown",
   "metadata": {
    "collapsed": false
   },
   "source": [
    "# Special Methods in a CLASS\n",
    "\n",
    "- Using special methods, your classes can act like sets, like dictionaries, like functions, like iterators, or even like numbers.\n"
   ]
  },
  {
   "cell_type": "markdown",
   "metadata": {},
   "source": [
    "## 1. Basic Class"
   ]
  },
  {
   "cell_type": "code",
   "execution_count": 16,
   "metadata": {
    "collapsed": true
   },
   "outputs": [],
   "source": [
    "\n",
    "class MyClass:\n",
    "    name = None\n",
    "    \n",
    "    def __init__(self):\n",
    "        self.name = \"Jai\"\n",
    "        print(\"init\")\n",
    "        \n",
    "    def __call__(self):\n",
    "        print(\"__Call__ is called\")\n",
    "        \n",
    "    def __str__(self):\n",
    "        print(\"__str__ is called\")\n",
    "        return self.name\n",
    "    \n",
    "    def __repr__(self):\n",
    "        print(\"__repr__ is called\")\n",
    "        return self.name\n",
    "\n",
    "    def __format__(self):\n",
    "        print(\"__format__ is called\") \n",
    "    \n",
    "    def __dir__(self):\n",
    "        return [\"__init__\", \"__call__\", \"__repr__\", \"print_name\", \"set_name\"]\n",
    "    "
   ]
  },
  {
   "cell_type": "code",
   "execution_count": 73,
   "metadata": {
    "collapsed": false
   },
   "outputs": [
    {
     "name": "stdout",
     "output_type": "stream",
     "text": [
      "init\n"
     ]
    }
   ],
   "source": [
    "obj1 = MyClass()"
   ]
  },
  {
   "cell_type": "markdown",
   "metadata": {},
   "source": [
    "## 2. Classes That Act Like Iterators\n",
    "\n",
    "Methods used\n",
    "\n",
    "- \\__iter__ :- to iterate through a sequence    iter(seq)\n",
    "- \\__next__ :- to get the next value from an iterator\tnext(seq)\n",
    "- \\__reversed__:- to create an iterator in reverse order\treversed(seq)\n",
    "\n",
    "\n",
    "1. The __iter__() method is called whenever you create a new iterator. It’s a good place to initialize the iterator with initial values.\n",
    "2. The __next__() method is called whenever you retrieve the next value from an iterator.\n",
    "3. The __reversed__() method is uncommon. It takes an existing sequence and returns an iterator that yields the items in the sequence in reverse order, from last to first."
   ]
  },
  {
   "cell_type": "code",
   "execution_count": 6,
   "metadata": {
    "collapsed": true
   },
   "outputs": [],
   "source": [
    "class Fibonacci:\n",
    "    def __init__(self, max):\n",
    "        self.max = max\n",
    "        self.counter = 0\n",
    "        \n",
    "    def __iter__(self):\n",
    "        self.a = 0\n",
    "        self.b = 1\n",
    "        return self\n",
    "    \n",
    "    def __next__(self):\n",
    "        if self.counter > self.max:\n",
    "            raise StopIteration\n",
    "        \n",
    "        fib = self.a\n",
    "        self.b += self.a \n",
    "        self.a = self.b\n",
    "        self.counter += 1\n",
    "        \n",
    "        return fib\n",
    "    \n",
    "    def __reveresed__(self): #uncommon\n",
    "        pass"
   ]
  },
  {
   "cell_type": "code",
   "execution_count": 18,
   "metadata": {
    "collapsed": false
   },
   "outputs": [
    {
     "name": "stdout",
     "output_type": "stream",
     "text": [
      "0 1 1 2 3 5 8 13 21 34 "
     ]
    }
   ],
   "source": [
    "for i in Fibonacci(10):\n",
    "    print(i, end = \" \")"
   ]
  },
  {
   "cell_type": "markdown",
   "metadata": {},
   "source": [
    "## 3. Computed Attributes\n",
    "\n",
    "<table>\n",
    "<tbody><tr><th>Notes\n",
    "</th><th>You Want…\n",
    "</th><th>So You Write…\n",
    "</th><th>And Python Calls…\n",
    "</th></tr><tr style=\"background-color: inherit; cursor: inherit;\"><th>①\n",
    "</th><td>to get a computed attribute (unconditionally)\n",
    "</td><td><code class=\"pp\"><span class=\"pln\">x</span><span class=\"pun\">.</span><span class=\"pln\">my_property</span></code>\n",
    "</td><td><a href=\"http://www.python.org/doc/3.1/reference/datamodel.html#object.__getattribute__\"><code>x.<dfn>__getattribute__</dfn>(<var>'my_property'</var>)</code></a>\n",
    "</td></tr><tr style=\"background-color: inherit; cursor: inherit;\"><th>②\n",
    "</th><td>to get a computed attribute (fallback)\n",
    "</td><td><code class=\"pp\"><span class=\"pln\">x</span><span class=\"pun\">.</span><span class=\"pln\">my_property</span></code>\n",
    "</td><td><a href=\"http://www.python.org/doc/3.1/reference/datamodel.html#object.__getattr__\"><code>x.<dfn>__getattr__</dfn>(<var>'my_property'</var>)</code></a>\n",
    "</td></tr><tr style=\"background-color: inherit; cursor: inherit;\"><th>③\n",
    "</th><td>to set an attribute\n",
    "</td><td><code class=\"pp\"><span class=\"pln\">x</span><span class=\"pun\">.</span><span class=\"pln\">my_property </span><span class=\"pun\">=</span><span class=\"pln\"> value</span></code>\n",
    "</td><td><a href=\"http://www.python.org/doc/3.1/reference/datamodel.html#object.__setattr__\"><code>x.<dfn>__setattr__</dfn>(<var>'my_property'</var>, <var>value</var>)</code></a>\n",
    "</td></tr><tr style=\"background-color: inherit; cursor: inherit;\"><th>④\n",
    "</th><td>to delete an attribute\n",
    "</td><td><code class=\"pp\"><span class=\"kwd\">del</span><span class=\"pln\"> x</span><span class=\"pun\">.</span><span class=\"pln\">my_property</span></code>\n",
    "</td><td><a href=\"http://www.python.org/doc/3.1/reference/datamodel.html#object.__delattr__\"><code>x.<dfn>__delattr__</dfn>(<var>'my_property'</var>)</code></a>\n",
    "</td></tr><tr style=\"background-color: inherit; cursor: inherit;\"><th>⑤\n",
    "</th><td>to list all attributes and methods\n",
    "</td><td><code class=\"pp\"><span class=\"pln\">dir</span><span class=\"pun\">(</span><span class=\"pln\">x</span><span class=\"pun\">)</span></code>\n",
    "</td><td><a href=\"http://www.python.org/doc/3.1/reference/datamodel.html#object.__dir__\"><code>x.<dfn>__dir__</dfn>()</code></a>\n",
    "</td></tr></tbody></table>\n",
    "\n",
    "\n",
    "<ol>\n",
    "<li style=\"background-color: inherit; cursor: inherit;\">If your class defines a <code>__getattribute__()</code> method, Python will call it on <em>every reference to any attribute or method name</em> (except special method names, since that would cause an unpleasant infinite loop).\n",
    "</li><li style=\"background-color: inherit; cursor: inherit;\">If your class defines a <code>__getattr__()</code> method, Python will call it only after looking for the attribute in all the normal places. If an instance <var>x</var> defines an attribute <var>color</var>, <code>x.color</code> will <em>not</em> call <code>x.__getattr__('color')</code>; it will simply return the already-defined value of <var>x.color</var>.\n",
    "</li><li style=\"background-color: inherit; cursor: inherit;\">The <code>__setattr__()</code> method is called whenever you assign a value to an attribute.\n",
    "</li><li style=\"background-color: inherit; cursor: inherit;\">The <code>__delattr__()</code> method is called whenever you delete an attribute.\n",
    "</li><li style=\"background-color: inherit; cursor: inherit;\">The <code>__dir__()</code> method is useful if you define a <code>__getattr__()</code> or <code>__getattribute__()</code> method. Normally, calling <code>dir(x)</code> would only list the regular attributes and methods. If your <code>__getattr__()</code> method handles a <var>color</var> attribute dynamically, <code>dir(x)</code> would not list <var>color</var> as one of the available attributes. Overriding the <code>__dir__()</code> method allows you to list <var>color</var> as an available attribute, which is helpful for other people who wish to use your class without digging into the internals of it.\n",
    "</li></ol>"
   ]
  },
  {
   "cell_type": "code",
   "execution_count": 46,
   "metadata": {
    "collapsed": false
   },
   "outputs": [],
   "source": [
    "class ComputedAtributted:\n",
    "    def __init__(self, name):\n",
    "        self.name = name\n",
    "        \n",
    "    def __setattr__(self, prop, value):\n",
    "        # self.name = value\n",
    "        print(\"__setattr__ called, with params prop: {0}, value: {1}\".format(prop, value))\n",
    "    \n",
    "    def __getattr__(self, prop):\n",
    "        print(\"__getattr__ called, with param: {}\".format(prop))\n",
    "        if prop == \"name\":\n",
    "            return \"name = JAi\"\n",
    "        else:\n",
    "            raise AttributeError\n",
    "            \n",
    "    def __getattribute__(self, prop):\n",
    "        print(\"__getattrinute__ called, with param: {}\".format(prop))\n",
    "        if prop == \"name\":\n",
    "            return \"name = JAi\"\n",
    "        else:\n",
    "            raise AttributeError\n",
    "            \n",
    "    def __delattr__(self, prop):\n",
    "        print(\"__delattr__ called with param\".format(prop))\n",
    "        \n",
    "    def __dir__(self):\n",
    "        return [\"__init__\", \"__setattr__\", \"__getattribute__\", \"__delattr__\"]"
   ]
  },
  {
   "cell_type": "code",
   "execution_count": 48,
   "metadata": {
    "collapsed": false
   },
   "outputs": [
    {
     "name": "stdout",
     "output_type": "stream",
     "text": [
      "__setattr__ called, with params prop: name, value: Jai\n",
      "__setattr__ called, with params prop: name, value: Jai Singhal\n",
      "__getattrinute__ called, with param: name\n",
      "name = JAi\n"
     ]
    }
   ],
   "source": [
    "obj = ComputedAtributted(\"Jai\")\n",
    "obj.name = \"Jai Singhal\"\n",
    "\n",
    "name = obj.name\n",
    "print(name)"
   ]
  },
  {
   "cell_type": "markdown",
   "metadata": {},
   "source": [
    "## 4. Classes That Act Like Functions\n",
    "\n",
    "You can make an instance of a class callable — exactly like a function is callable — by defining the \\__call__() method."
   ]
  },
  {
   "cell_type": "code",
   "execution_count": null,
   "metadata": {
    "collapsed": true
   },
   "outputs": [],
   "source": []
  },
  {
   "cell_type": "code",
   "execution_count": null,
   "metadata": {
    "collapsed": true
   },
   "outputs": [],
   "source": []
  },
  {
   "cell_type": "markdown",
   "metadata": {},
   "source": [
    "## 5. Classes That Act Like Numbers#\n",
    "Using the appropriate special methods, you can define your own classes that act like numbers. That is, you can add them, subtract them, and perform other mathematical operations on them. This is how fractions are implemented — the Fraction class implements these special methods, then you can do things like this:\n",
    "\n",
    "<table>\n",
    "<tbody><tr><th>Notes\n",
    "</th><th>You Want…\n",
    "</th><th>So You Write…\n",
    "</th><th>And Python Calls…\n",
    "</th></tr><tr><th>\n",
    "</th><td>addition\n",
    "</td><td><code class=\"pp\"><span class=\"pln\">x </span><span class=\"pun\">+</span><span class=\"pln\"> y</span></code>\n",
    "</td><td><a href=\"http://www.python.org/doc/3.1/reference/datamodel.html#object.__add__\"><code>x.<dfn>__add__</dfn>(<var>y</var>)</code></a>\n",
    "</td></tr><tr><th>\n",
    "</th><td>subtraction\n",
    "</td><td><code class=\"pp\"><span class=\"pln\">x </span><span class=\"pun\">-</span><span class=\"pln\"> y</span></code>\n",
    "</td><td><a href=\"http://www.python.org/doc/3.1/reference/datamodel.html#object.__sub__\"><code>x.<dfn>__sub__</dfn>(<var>y</var>)</code></a>\n",
    "</td></tr><tr><th>\n",
    "</th><td>multiplication\n",
    "</td><td><code class=\"pp\"><span class=\"pln\">x </span><span class=\"pun\">*</span><span class=\"pln\"> y</span></code>\n",
    "</td><td><a href=\"http://www.python.org/doc/3.1/reference/datamodel.html#object.__mul__\"><code>x.<dfn>__mul__</dfn>(<var>y</var>)</code></a>\n",
    "</td></tr><tr><th>\n",
    "</th><td>division\n",
    "</td><td><code class=\"pp\"><span class=\"pln\">x </span><span class=\"pun\">/</span><span class=\"pln\"> y</span></code>\n",
    "</td><td><a href=\"http://www.python.org/doc/3.1/reference/datamodel.html#object.__truediv__\"><code>x.<dfn>__truediv__</dfn>(<var>y</var>)</code></a>\n",
    "</td></tr><tr><th>\n",
    "</th><td>floor division\n",
    "</td><td><code>x // y</code>\n",
    "</td><td><a href=\"http://www.python.org/doc/3.1/reference/datamodel.html#object.__floordiv__\"><code>x.<dfn>__floordiv__</dfn>(<var>y</var>)</code></a>\n",
    "</td></tr><tr><th>\n",
    "</th><td>modulo (remainder)\n",
    "</td><td><code class=\"pp\"><span class=\"pln\">x </span><span class=\"pun\">%</span><span class=\"pln\"> y</span></code>\n",
    "</td><td><a href=\"http://www.python.org/doc/3.1/reference/datamodel.html#object.__mod__\"><code>x.<dfn>__mod__</dfn>(<var>y</var>)</code></a>\n",
    "</td></tr><tr><th>\n",
    "</th><td>floor division <i class=\"baa\">&amp;</i> modulo\n",
    "</td><td><code class=\"pp\"><span class=\"pln\">divmod</span><span class=\"pun\">(</span><span class=\"pln\">x</span><span class=\"pun\">,</span><span class=\"pln\"> y</span><span class=\"pun\">)</span></code>\n",
    "</td><td><a href=\"http://www.python.org/doc/3.1/reference/datamodel.html#object.__divmod__\"><code>x.<dfn>__divmod__</dfn>(<var>y</var>)</code></a>\n",
    "</td></tr><tr><th>\n",
    "</th><td>raise to power\n",
    "</td><td><code class=\"pp\"><span class=\"pln\">x </span><span class=\"pun\">**</span><span class=\"pln\"> y</span></code>\n",
    "</td><td><a href=\"http://www.python.org/doc/3.1/reference/datamodel.html#object.__pow__\"><code>x.<dfn>__pow__</dfn>(<var>y</var>)</code></a>\n",
    "</td></tr><tr><th>\n",
    "</th><td>left bit-shift\n",
    "</td><td><code class=\"pp\"><span class=\"pln\">x </span><span class=\"pun\">&lt;&lt;</span><span class=\"pln\"> y</span></code>\n",
    "</td><td><a href=\"http://www.python.org/doc/3.1/reference/datamodel.html#object.__lshift__\"><code>x.<dfn>__lshift__</dfn>(<var>y</var>)</code></a>\n",
    "</td></tr><tr><th>\n",
    "</th><td>right bit-shift\n",
    "</td><td><code class=\"pp\"><span class=\"pln\">x </span><span class=\"pun\">&gt;&gt;</span><span class=\"pln\"> y</span></code>\n",
    "</td><td><a href=\"http://www.python.org/doc/3.1/reference/datamodel.html#object.__rshift__\"><code>x.<dfn>__rshift__</dfn>(<var>y</var>)</code></a>\n",
    "</td></tr><tr><th>\n",
    "</th><td>bitwise <code>and</code>\n",
    "</td><td><code class=\"pp\"><span class=\"pln\">x </span><span class=\"pun\">&amp;</span><span class=\"pln\"> y</span></code>\n",
    "</td><td><a href=\"http://www.python.org/doc/3.1/reference/datamodel.html#object.__and__\"><code>x.<dfn>__and__</dfn>(<var>y</var>)</code></a>\n",
    "</td></tr><tr><th>\n",
    "</th><td>bitwise <code>xor</code>\n",
    "</td><td><code class=\"pp\"><span class=\"pln\">x </span><span class=\"pun\">^</span><span class=\"pln\"> y</span></code>\n",
    "</td><td><a href=\"http://www.python.org/doc/3.1/reference/datamodel.html#object.__xor__\"><code>x.<dfn>__xor__</dfn>(<var>y</var>)</code></a>\n",
    "</td></tr><tr><th>\n",
    "</th><td>bitwise <code>or</code>\n",
    "</td><td><code class=\"pp\"><span class=\"pln\">x </span><span class=\"pun\">|</span><span class=\"pln\"> y</span></code>\n",
    "</td><td><a href=\"http://www.python.org/doc/3.1/reference/datamodel.html#object.__or__\"><code>x.<dfn>__or__</dfn>(<var>y</var>)</code></a>\n",
    "</td></tr></tbody></table>\n",
    "\n",
    "<hr>\n",
    "\n",
    "But wait! There’s more! If you’re doing “in-place” operations, like x /= 3, there are even more special methods you can define.\n",
    "<br>\n",
    "\n",
    "<table>\n",
    "<tbody><tr><th>Notes\n",
    "</th><th>You Want…\n",
    "</th><th>So You Write…\n",
    "</th><th>And Python Calls…\n",
    "</th></tr><tr><th>\n",
    "</th><td>in-place addition\n",
    "</td><td><code class=\"pp\"><span class=\"pln\">x </span><span class=\"pun\">+=</span><span class=\"pln\"> y</span></code>\n",
    "</td><td><a href=\"http://www.python.org/doc/3.1/reference/datamodel.html#object.__iadd__\"><code>x.<dfn>__iadd__</dfn>(<var>y</var>)</code></a>\n",
    "</td></tr><tr><th>\n",
    "</th><td>in-place subtraction\n",
    "</td><td><code class=\"pp\"><span class=\"pln\">x </span><span class=\"pun\">-=</span><span class=\"pln\"> y</span></code>\n",
    "</td><td><a href=\"http://www.python.org/doc/3.1/reference/datamodel.html#object.__isub__\"><code>x.<dfn>__isub__</dfn>(<var>y</var>)</code></a>\n",
    "</td></tr><tr><th>\n",
    "</th><td>in-place multiplication\n",
    "</td><td><code class=\"pp\"><span class=\"pln\">x </span><span class=\"pun\">*=</span><span class=\"pln\"> y</span></code>\n",
    "</td><td><a href=\"http://www.python.org/doc/3.1/reference/datamodel.html#object.__imul__\"><code>x.<dfn>__imul__</dfn>(<var>y</var>)</code></a>\n",
    "</td></tr><tr><th>\n",
    "</th><td>in-place division\n",
    "</td><td><code class=\"pp\"><span class=\"pln\">x </span><span class=\"pun\">/=</span><span class=\"pln\"> y</span></code>\n",
    "</td><td><a href=\"http://www.python.org/doc/3.1/reference/datamodel.html#object.__itruediv__\"><code>x.<dfn>__itruediv__</dfn>(<var>y</var>)</code></a>\n",
    "</td></tr><tr><th>\n",
    "</th><td>in-place floor division\n",
    "</td><td><code>x //= y</code>\n",
    "</td><td><a href=\"http://www.python.org/doc/3.1/reference/datamodel.html#object.__ifloordiv__\"><code>x.<dfn>__ifloordiv__</dfn>(<var>y</var>)</code></a>\n",
    "</td></tr><tr><th>\n",
    "</th><td>in-place modulo\n",
    "</td><td><code class=\"pp\"><span class=\"pln\">x </span><span class=\"pun\">%=</span><span class=\"pln\"> y</span></code>\n",
    "</td><td><a href=\"http://www.python.org/doc/3.1/reference/datamodel.html#object.__imod__\"><code>x.<dfn>__imod__</dfn>(<var>y</var>)</code></a>\n",
    "</td></tr><tr><th>\n",
    "</th><td>in-place raise to power\n",
    "</td><td><code class=\"pp\"><span class=\"pln\">x </span><span class=\"pun\">**=</span><span class=\"pln\"> y</span></code>\n",
    "</td><td><a href=\"http://www.python.org/doc/3.1/reference/datamodel.html#object.__ipow__\"><code>x.<dfn>__ipow__</dfn>(<var>y</var>)</code></a>\n",
    "</td></tr><tr><th>\n",
    "</th><td>in-place left bit-shift\n",
    "</td><td><code class=\"pp\"><span class=\"pln\">x </span><span class=\"pun\">&lt;&lt;=</span><span class=\"pln\"> y</span></code>\n",
    "</td><td><a href=\"http://www.python.org/doc/3.1/reference/datamodel.html#object.__ilshift__\"><code>x.<dfn>__ilshift__</dfn>(<var>y</var>)</code></a>\n",
    "</td></tr><tr><th>\n",
    "</th><td>in-place right bit-shift\n",
    "</td><td><code class=\"pp\"><span class=\"pln\">x </span><span class=\"pun\">&gt;&gt;=</span><span class=\"pln\"> y</span></code>\n",
    "</td><td><a href=\"http://www.python.org/doc/3.1/reference/datamodel.html#object.__irshift__\"><code>x.<dfn>__irshift__</dfn>(<var>y</var>)</code></a>\n",
    "</td></tr><tr><th>\n",
    "</th><td>in-place bitwise <code>and</code>\n",
    "</td><td><code class=\"pp\"><span class=\"pln\">x </span><span class=\"pun\">&amp;=</span><span class=\"pln\"> y</span></code>\n",
    "</td><td><a href=\"http://www.python.org/doc/3.1/reference/datamodel.html#object.__iand__\"><code>x.<dfn>__iand__</dfn>(<var>y</var>)</code></a>\n",
    "</td></tr><tr><th>\n",
    "</th><td>in-place bitwise <code>xor</code>\n",
    "</td><td><code class=\"pp\"><span class=\"pln\">x </span><span class=\"pun\">^=</span><span class=\"pln\"> y</span></code>\n",
    "</td><td><a href=\"http://www.python.org/doc/3.1/reference/datamodel.html#object.__ixor__\"><code>x.<dfn>__ixor__</dfn>(<var>y</var>)</code></a>\n",
    "</td></tr><tr><th>\n",
    "</th><td>in-place bitwise <code>or</code>\n",
    "</td><td><code class=\"pp\"><span class=\"pln\">x </span><span class=\"pun\">|=</span><span class=\"pln\"> y</span></code>\n",
    "</td><td><a href=\"http://www.python.org/doc/3.1/reference/datamodel.html#object.__ior__\"><code>x.<dfn>__ior__</dfn>(<var>y</var>)</code></a>\n",
    "</td></tr></tbody></table>\n",
    "\n",
    "<hr>\n",
    "There are also a few “unary” mathematical operations you can perform on number-like objects by themselves.\n",
    "<br>\n",
    "\n",
    "\n",
    "<table>\n",
    "<tbody><tr><th>Notes\n",
    "</th><th>You Want…\n",
    "</th><th>So You Write…\n",
    "</th><th>And Python Calls…\n",
    "</th></tr><tr><th>\n",
    "</th><td>negative number\n",
    "</td><td><code class=\"pp\"><span class=\"pun\">-</span><span class=\"pln\">x</span></code>\n",
    "</td><td><a href=\"http://www.python.org/doc/3.1/reference/datamodel.html#object.__neg__\"><code>x.<dfn>__neg__</dfn>()</code></a>\n",
    "</td></tr><tr><th>\n",
    "</th><td>positive number\n",
    "</td><td><code class=\"pp\"><span class=\"pun\">+</span><span class=\"pln\">x</span></code>\n",
    "</td><td><a href=\"http://www.python.org/doc/3.1/reference/datamodel.html#object.__pos__\"><code>x.<dfn>__pos__</dfn>()</code></a>\n",
    "</td></tr><tr><th>\n",
    "</th><td>absolute value\n",
    "</td><td><code class=\"pp\"><span class=\"pln\">abs</span><span class=\"pun\">(</span><span class=\"pln\">x</span><span class=\"pun\">)</span></code>\n",
    "</td><td><a href=\"http://www.python.org/doc/3.1/reference/datamodel.html#object.__abs__\"><code>x.<dfn>__abs__</dfn>()</code></a>\n",
    "</td></tr><tr><th>\n",
    "</th><td>inverse\n",
    "</td><td><code class=\"pp\"><span class=\"pun\">~</span><span class=\"pln\">x</span></code>\n",
    "</td><td><a href=\"http://www.python.org/doc/3.1/reference/datamodel.html#object.__invert__\"><code>x.<dfn>__invert__</dfn>()</code></a>\n",
    "</td></tr><tr><th>\n",
    "</th><td>complex number\n",
    "</td><td><code class=\"pp\"><span class=\"pln\">complex</span><span class=\"pun\">(</span><span class=\"pln\">x</span><span class=\"pun\">)</span></code>\n",
    "</td><td><a href=\"http://www.python.org/doc/3.1/reference/datamodel.html#object.__complex__\"><code>x.<dfn>__complex__</dfn>()</code></a>\n",
    "</td></tr><tr><th>\n",
    "</th><td>integer\n",
    "</td><td><code class=\"pp\"><span class=\"kwd\">int</span><span class=\"pun\">(</span><span class=\"pln\">x</span><span class=\"pun\">)</span></code>\n",
    "</td><td><a href=\"http://www.python.org/doc/3.1/reference/datamodel.html#object.__int__\"><code>x.<dfn>__int__</dfn>()</code></a>\n",
    "</td></tr><tr><th>\n",
    "</th><td>floating point number\n",
    "</td><td><code class=\"pp\"><span class=\"kwd\">float</span><span class=\"pun\">(</span><span class=\"pln\">x</span><span class=\"pun\">)</span></code>\n",
    "</td><td><a href=\"http://www.python.org/doc/3.1/reference/datamodel.html#object.__float__\"><code>x.<dfn>__float__</dfn>()</code></a>\n",
    "</td></tr><tr><th>\n",
    "</th><td>number rounded to nearest integer\n",
    "</td><td><code class=\"pp\"><span class=\"pln\">round</span><span class=\"pun\">(</span><span class=\"pln\">x</span><span class=\"pun\">)</span></code>\n",
    "</td><td><a href=\"http://www.python.org/doc/3.1/reference/datamodel.html#object.__round__\"><code>x.<dfn>__round__</dfn>()</code></a>\n",
    "</td></tr><tr><th>\n",
    "</th><td>number rounded to nearest <var>n</var> digits\n",
    "</td><td><code class=\"pp\"><span class=\"pln\">round</span><span class=\"pun\">(</span><span class=\"pln\">x</span><span class=\"pun\">,</span><span class=\"pln\"> n</span><span class=\"pun\">)</span></code>\n",
    "</td><td><a href=\"http://www.python.org/doc/3.1/reference/datamodel.html#object.__round__\"><code>x.<dfn>__round__</dfn>(n)</code></a>\n",
    "</td></tr><tr><th>\n",
    "</th><td>smallest integer <code>&gt;= x</code>\n",
    "</td><td><code class=\"pp\"><span class=\"pln\">math</span><span class=\"pun\">.</span><span class=\"pln\">ceil</span><span class=\"pun\">(</span><span class=\"pln\">x</span><span class=\"pun\">)</span></code>\n",
    "</td><td><a href=\"http://docs.python.org/3.1/library/math.html#math.ceil\"><code>x.<dfn>__ceil__</dfn>()</code></a>\n",
    "</td></tr><tr><th>\n",
    "</th><td>largest integer <code>&lt;= x</code>\n",
    "</td><td><code class=\"pp\"><span class=\"pln\">math</span><span class=\"pun\">.</span><span class=\"pln\">floor</span><span class=\"pun\">(</span><span class=\"pln\">x</span><span class=\"pun\">)</span></code>\n",
    "</td><td><a href=\"http://docs.python.org/3.1/library/math.html#math.floor\"><code>x.<dfn>__floor__</dfn>()</code></a>\n",
    "</td></tr><tr><th>\n",
    "</th><td>truncate <code>x</code> to nearest integer toward 0\n",
    "</td><td><code class=\"pp\"><span class=\"pln\">math</span><span class=\"pun\">.</span><span class=\"pln\">trunc</span><span class=\"pun\">(</span><span class=\"pln\">x</span><span class=\"pun\">)</span></code>\n",
    "</td><td><a href=\"http://docs.python.org/3.1/library/math.html#math.trunc\"><code>x.<dfn>__trunc__</dfn>()</code></a>\n",
    "</td></tr><tr><th><span class=\"inherit\"><a href=\"http://www.python.org/dev/peps/pep-0357/\">PEP 357</a></span>\n",
    "</th><td>number as a list index\n",
    "</td><td><code class=\"pp\"><span class=\"pln\">a_list</span><span class=\"pun\">[</span><var><span class=\"pln\">x</span></var><span class=\"pun\">]</span></code>\n",
    "</td><td><a href=\"http://www.python.org/doc/3.1/reference/datamodel.html#object.__index__\"><code>a_list[x.<dfn>__index__</dfn>()]</code></a>\n",
    "</td></tr></tbody></table>"
   ]
  },
  {
   "cell_type": "code",
   "execution_count": 120,
   "metadata": {
    "collapsed": true
   },
   "outputs": [],
   "source": [
    "class Mathematics:\n",
    "    def __init__(self, a, b):\n",
    "        self.a = a\n",
    "        self.b = b\n",
    "\n",
    "    \n",
    "    def __add__(self, obj):\n",
    "        print(\"__add__ is called with params: {0}\". format(obj))\n",
    "        self.a += obj.a\n",
    "        self.b += obj.b\n",
    "        return self\n",
    "    \n",
    "    def __sub__(self, obj):\n",
    "        print(\"__sub__ is called with params: {0}\". format(obj))\n",
    "        self.a -= obj.a\n",
    "        self.b -= obj.b\n",
    "        return self\n",
    "    \n",
    "    def __neg__(self):\n",
    "        print(\"__neg__ is called\")\n",
    "        self.a = (-1)*self.a\n",
    "        self.b = (-1)*self.b     \n",
    "        return self\n",
    "    \n",
    "    def __iadd__(self, obj):\n",
    "        print(\"__iadd__ is called  with param {}\".format(obj))\n",
    "        self.a = self.a + obj.a\n",
    "        self.b = self.b + obj.b\n",
    "        return self\n",
    "    \n",
    "#     def __getattribute__(self, param):\n",
    "#         print(\"__getattr__ called\")\n",
    "#         if param == \"a\":\n",
    "#             print(param)\n",
    "#         elif param == \"b\":\n",
    "#             print(param)"
   ]
  },
  {
   "cell_type": "code",
   "execution_count": 123,
   "metadata": {
    "collapsed": false
   },
   "outputs": [
    {
     "name": "stdout",
     "output_type": "stream",
     "text": [
      "__add__ is called with params: <__main__.Mathematics object at 0x7f12e4043c50>\n",
      "__sub__ is called with params: <__main__.Mathematics object at 0x7f12e4043c50>\n",
      "__neg__ is called\n",
      "__iadd__ is called  with param <__main__.Mathematics object at 0x7f12e4043c50>\n"
     ]
    }
   ],
   "source": [
    "obj1 = Mathematics(5, 1)\n",
    "obj2 = Mathematics(3, 6)\n",
    "\n",
    "obj1 = obj1 + obj2\n",
    "obj1 = obj1 - obj2\n",
    "obj1 = -obj1\n",
    "obj1 += obj2\n",
    "\n"
   ]
  },
  {
   "cell_type": "code",
   "execution_count": null,
   "metadata": {
    "collapsed": true
   },
   "outputs": [],
   "source": []
  },
  {
   "cell_type": "markdown",
   "metadata": {},
   "source": [
    "## \\__call__ method \n",
    "Called when the instance is “called” as a function; if this method is defined, x(arg1, arg2, ...) is a shorthand for x.__call__(arg1, arg2, ...).\n",
    "\n",
    "To make the classes callable, we use \\__call__ method"
   ]
  },
  {
   "cell_type": "code",
   "execution_count": 139,
   "metadata": {
    "collapsed": false
   },
   "outputs": [],
   "source": [
    "import socket\n",
    "\n",
    "class Resolver:\n",
    "    \n",
    "    def __init__(self):\n",
    "        self._cache = {}\n",
    "    \n",
    "    def __call__(self, host):\n",
    "        if host not in self._cache:\n",
    "            self._cache[host] = socket.gethostbyname(host)\n",
    "        return self._cache[host]\n",
    "    \n",
    "    def clear(self):\n",
    "        self._cache.clear()\n",
    "    \n",
    "    def has_host(self, host):\n",
    "        return host in self._cache"
   ]
  },
  {
   "cell_type": "code",
   "execution_count": 171,
   "metadata": {
    "collapsed": false
   },
   "outputs": [
    {
     "data": {
      "text/plain": [
       "False"
      ]
     },
     "execution_count": 171,
     "metadata": {},
     "output_type": "execute_result"
    }
   ],
   "source": [
    "resolve = Resolver()\n",
    "\n",
    "resolve(\"www.djangopy.org\")\n",
    "resolve.has_host(\"www.djangopy.org\")\n",
    "resolve.clear()\n",
    "resolve.has_host(\"www.djangopy.org\")"
   ]
  },
  {
   "cell_type": "code",
   "execution_count": 174,
   "metadata": {
    "collapsed": false
   },
   "outputs": [
    {
     "data": {
      "text/plain": [
       "3.7519994293688796e-06"
      ]
     },
     "execution_count": 174,
     "metadata": {},
     "output_type": "execute_result"
    }
   ],
   "source": [
    "from timeit import timeit\n",
    "\n",
    "# resolve.clear()\n",
    "timeit(setup = \"from __main__ import resolve\", stmt = \"resolve('www.djangopy.org')\", number = 1)\n"
   ]
  },
  {
   "cell_type": "markdown",
   "metadata": {},
   "source": [
    "## classes are callable"
   ]
  },
  {
   "cell_type": "code",
   "execution_count": 182,
   "metadata": {
    "collapsed": false
   },
   "outputs": [
    {
     "name": "stdout",
     "output_type": "stream",
     "text": [
      "<class 'tuple'>\n"
     ]
    },
    {
     "data": {
      "text/plain": [
       "('J', 'a', 'i', ' ', 'S', 'i', 'n', 'g', 'h', 'a', 'l')"
      ]
     },
     "execution_count": 182,
     "metadata": {},
     "output_type": "execute_result"
    }
   ],
   "source": [
    "def sequence_class(immutable):\n",
    "    if immutable:\n",
    "        cls = tuple\n",
    "    else:\n",
    "        cls = list\n",
    "    return cls\n",
    "\n",
    "t = sequence_class(True)\n",
    "print(t)\n",
    "x = t(\"Jai Singhal\")\n",
    "x"
   ]
  },
  {
   "cell_type": "markdown",
   "metadata": {},
   "source": [
    "## conditional expressions\n"
   ]
  },
  {
   "cell_type": "code",
   "execution_count": 186,
   "metadata": {
    "collapsed": false
   },
   "outputs": [
    {
     "name": "stdout",
     "output_type": "stream",
     "text": [
      "<class 'list'>\n",
      "['j', 'a', 'i']\n"
     ]
    }
   ],
   "source": [
    "def sequence_class_type2(immutable):\n",
    "    return tuple if immutable else list\n",
    "\n",
    "seq = sequence_class_type2(False)\n",
    "t = seq(\"jai\")\n",
    "print(type(t))\n",
    "print(t)"
   ]
  },
  {
   "cell_type": "markdown",
   "metadata": {},
   "source": [
    "## Lambdas"
   ]
  },
  {
   "cell_type": "code",
   "execution_count": 190,
   "metadata": {
    "collapsed": false
   },
   "outputs": [
    {
     "data": {
      "text/plain": [
       "['JJ Thompson', 'Isaac Newton', 'A. Maxwell', 'Albert Einstien', 'Neil Bohr']"
      ]
     },
     "execution_count": 190,
     "metadata": {},
     "output_type": "execute_result"
    }
   ],
   "source": [
    "scientists = [\"Neil Bohr\", \"A. Maxwell\", \"Albert Einstien\", \"Isaac Newton\", \"JJ Thompson\"]\n",
    "\n",
    "sorted(scientists, key = lambda name: name.split()[1], reverse = True)"
   ]
  },
  {
   "cell_type": "markdown",
   "metadata": {},
   "source": [
    "## Detecting callable\n",
    "\n",
    "we can check if the object is callable or not, we use built in function callable\n",
    "    "
   ]
  },
  {
   "cell_type": "code",
   "execution_count": 204,
   "metadata": {
    "collapsed": false
   },
   "outputs": [
    {
     "name": "stdout",
     "output_type": "stream",
     "text": [
      "True\n",
      "True\n",
      "True\n",
      "True\n",
      "True\n",
      "This is >>False<< because class does not contain __call__\n",
      "True\n",
      "This is >>True<< because class contains __call__\n"
     ]
    }
   ],
   "source": [
    "class Myclass:\n",
    "    def __init__(self):\n",
    "        self.name= \"jai\"\n",
    "        \n",
    "class Myclass2:\n",
    "    def __init__(self):\n",
    "        self.name= \"jai\"\n",
    "        \n",
    "    def __call__(self):\n",
    "        return True\n",
    "\n",
    "def is_even(x):\n",
    "    return x%2 == 0\n",
    "\n",
    "is_odd = lambda x: x%2 != 0\n",
    "\n",
    "# functions are callable\n",
    "print(callable(is_even))\n",
    "\n",
    "#lambdas are callable\n",
    "print(callable(is_odd))\n",
    "\n",
    "# classes are callabe\n",
    "print(callable(list))\n",
    "\n",
    "#class methods are callable\n",
    "print(callable(list.append))\n",
    "\n",
    "print(callable(Myclass))\n",
    "obj = Myclass()\n",
    "print(\"This is >>{}<< because class does not contain __call__\".format(callable(obj)))\n",
    "\n",
    "print(callable(Myclass2))\n",
    "obj2 = Myclass2()\n",
    "print(\"This is >>{}<< because class contains __call__\".format(callable(obj2)))"
   ]
  },
  {
   "cell_type": "code",
   "execution_count": null,
   "metadata": {
    "collapsed": true
   },
   "outputs": [],
   "source": []
  }
 ],
 "metadata": {
  "anaconda-cloud": {},
  "kernelspec": {
   "display_name": "Python [conda root]",
   "language": "python",
   "name": "conda-root-py"
  },
  "language_info": {
   "codemirror_mode": {
    "name": "ipython",
    "version": 3
   },
   "file_extension": ".py",
   "mimetype": "text/x-python",
   "name": "python",
   "nbconvert_exporter": "python",
   "pygments_lexer": "ipython3",
   "version": "3.5.2"
  }
 },
 "nbformat": 4,
 "nbformat_minor": 1
}
