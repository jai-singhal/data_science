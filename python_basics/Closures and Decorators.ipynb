{
 "cells": [
  {
   "cell_type": "markdown",
   "metadata": {},
   "source": [
    "## Local Functions"
   ]
  },
  {
   "cell_type": "code",
   "execution_count": 1,
   "metadata": {
    "collapsed": true
   },
   "outputs": [],
   "source": [
    "def sort_by_last_letter(strings):\n",
    "    \n",
    "    def last_letter(string):\n",
    "        return string[-1]\n",
    "    \n",
    "    return sorted(strings, key = last_letter)\n"
   ]
  },
  {
   "cell_type": "code",
   "execution_count": 6,
   "metadata": {
    "collapsed": false
   },
   "outputs": [
    {
     "data": {
      "text/plain": [
       "['jai', 'deepak', 'gaurav']"
      ]
     },
     "execution_count": 6,
     "metadata": {},
     "output_type": "execute_result"
    }
   ],
   "source": [
    "words = [\"deepak\", \"gaurav\", \"jai\"]\n",
    "sort_by_last_letter(words)"
   ]
  },
  {
   "cell_type": "code",
   "execution_count": 8,
   "metadata": {
    "collapsed": false
   },
   "outputs": [
    {
     "ename": "AttributeError",
     "evalue": "'function' object has no attribute 'last_letter'",
     "output_type": "error",
     "traceback": [
      "\u001b[0;31m---------------------------------------------------------------------------\u001b[0m",
      "\u001b[0;31mAttributeError\u001b[0m                            Traceback (most recent call last)",
      "\u001b[0;32m<ipython-input-8-813a3e304d26>\u001b[0m in \u001b[0;36m<module>\u001b[0;34m()\u001b[0m\n\u001b[0;32m----> 1\u001b[0;31m \u001b[0msort_by_last_letter\u001b[0m\u001b[0;34m.\u001b[0m\u001b[0mlast_letter\u001b[0m\u001b[0;34m\u001b[0m\u001b[0m\n\u001b[0m\u001b[1;32m      2\u001b[0m \u001b[0;31m# the new function(last_letter()) is created after each time def is executed\u001b[0m\u001b[0;34m\u001b[0m\u001b[0;34m\u001b[0m\u001b[0m\n",
      "\u001b[0;31mAttributeError\u001b[0m: 'function' object has no attribute 'last_letter'"
     ]
    }
   ],
   "source": [
    "sort_by_last_letter.last_letter\n",
    "# the new function(last_letter()) is created after each time def is executed"
   ]
  },
  {
   "cell_type": "code",
   "execution_count": 10,
   "metadata": {
    "collapsed": false
   },
   "outputs": [
    {
     "name": "stdout",
     "output_type": "stream",
     "text": [
      "local global params\n"
     ]
    }
   ],
   "source": [
    "g = \"global\"\n",
    "def outer(p = \"params\"):\n",
    "    l = \"local\"\n",
    "    def local():\n",
    "        print(l, g, p)\n",
    "    \n",
    "    local()\n",
    "    \n",
    "outer()\n"
   ]
  },
  {
   "cell_type": "code",
   "execution_count": 14,
   "metadata": {
    "collapsed": false
   },
   "outputs": [
    {
     "name": "stdout",
     "output_type": "stream",
     "text": [
      "global\n",
      "params\n",
      "local\n"
     ]
    }
   ],
   "source": [
    "x = \"global\"\n",
    "print(x)\n",
    "def outer(x = \"params\"):\n",
    "    print(x)\n",
    "    x = \"local\"\n",
    "    def local():\n",
    "        print(x)\n",
    "    \n",
    "    local()\n",
    "    \n",
    "outer()"
   ]
  },
  {
   "cell_type": "markdown",
   "metadata": {},
   "source": [
    "### Returning local functions"
   ]
  },
  {
   "cell_type": "code",
   "execution_count": 15,
   "metadata": {
    "collapsed": false
   },
   "outputs": [
    {
     "name": "stdout",
     "output_type": "stream",
     "text": [
      "inner\n"
     ]
    }
   ],
   "source": [
    "def outer():\n",
    "    def inner():\n",
    "        print(\"inner\")\n",
    "    return inner\n",
    "\n",
    "inner_func = outer()\n",
    "inner_func()\n",
    "\n",
    "# How?\n",
    "# Because of CLOSURES property of python. which maintains reference to objects from local scopes"
   ]
  },
  {
   "cell_type": "markdown",
   "metadata": {},
   "source": [
    "## Closures"
   ]
  },
  {
   "cell_type": "code",
   "execution_count": 23,
   "metadata": {
    "collapsed": false
   },
   "outputs": [
    {
     "name": "stdout",
     "output_type": "stream",
     "text": [
      "closed over True {'age': 21, 'name': 'jai'}\n"
     ]
    },
    {
     "data": {
      "text/plain": [
       "(<cell at 0x7f716cd12438: bool object at 0x7f717a659540>,\n",
       " <cell at 0x7f716cd120a8: dict object at 0x7f716cca2cc8>,\n",
       " <cell at 0x7f716cd12618: str object at 0x7f716cd11370>)"
      ]
     },
     "execution_count": 23,
     "metadata": {},
     "output_type": "execute_result"
    }
   ],
   "source": [
    "def enclosing():\n",
    "    x = \"closed over\"\n",
    "    b = True\n",
    "    d = {\"name\": \"jai\", \"age\": 21}\n",
    "    y = 2 # not in closurebecause not used in inner function\n",
    "    \n",
    "    def inner_function():\n",
    "        print(x, b, d)\n",
    "    \n",
    "    return inner_function\n",
    "\n",
    "lf = enclosing()\n",
    "lf()\n",
    "lf.__closure__"
   ]
  },
  {
   "cell_type": "code",
   "execution_count": 27,
   "metadata": {
    "collapsed": false
   },
   "outputs": [
    {
     "name": "stdout",
     "output_type": "stream",
     "text": [
      "36\n",
      "1\n",
      "46656\n",
      "6\n"
     ]
    },
    {
     "data": {
      "text/plain": [
       "(<cell at 0x7f716cd12888: int object at 0x7f717a6bbac0>,)"
      ]
     },
     "execution_count": 27,
     "metadata": {},
     "output_type": "execute_result"
    }
   ],
   "source": [
    "def raise_to(exp):\n",
    "    def raise_to_exp(x):\n",
    "        return exp**x\n",
    "    return raise_to_exp\n",
    "\n",
    "x = raise_to(6)\n",
    "print(x(2))\n",
    "print(x(0))\n",
    "print(x(6))\n",
    "print(x(1))\n",
    "x.__closure__"
   ]
  },
  {
   "cell_type": "markdown",
   "metadata": {},
   "source": [
    "### nonlocal vs global"
   ]
  },
  {
   "cell_type": "code",
   "execution_count": 34,
   "metadata": {
    "collapsed": false
   },
   "outputs": [
    {
     "name": "stdout",
     "output_type": "stream",
     "text": [
      "global message:  global\n",
      "enclosing function:  enclosing\n",
      "enclosing function:  enclosing\n",
      "global message:  global\n"
     ]
    }
   ],
   "source": [
    "message = \"global\"\n",
    "\n",
    "def enclosing():\n",
    "    message = \"enclosing\"\n",
    "    \n",
    "    def local():\n",
    "        message = \"local\"\n",
    "    \n",
    "    print(\"enclosing function: \", message)\n",
    "    local()\n",
    "    print(\"enclosing function: \", message)\n",
    "\n",
    "print(\"global message: \", message)\n",
    "enclosing()\n",
    "print(\"global message: \", message)"
   ]
  },
  {
   "cell_type": "code",
   "execution_count": 35,
   "metadata": {
    "collapsed": false
   },
   "outputs": [
    {
     "name": "stdout",
     "output_type": "stream",
     "text": [
      "global message:  global\n",
      "enclosing function:  enclosing\n",
      "enclosing function:  enclosing\n",
      "global message:  local\n"
     ]
    }
   ],
   "source": [
    "message = \"global\"\n",
    "\n",
    "def enclosing():\n",
    "    message = \"enclosing\"\n",
    "    \n",
    "    def local():\n",
    "        global message\n",
    "        message = \"local\"\n",
    "\n",
    "    print(\"enclosing function: \", message)\n",
    "    local()\n",
    "    print(\"enclosing function: \", message)\n",
    "\n",
    "print(\"global message: \", message)\n",
    "enclosing()\n",
    "print(\"global message: \", message)"
   ]
  },
  {
   "cell_type": "code",
   "execution_count": 36,
   "metadata": {
    "collapsed": false
   },
   "outputs": [
    {
     "name": "stdout",
     "output_type": "stream",
     "text": [
      "global message:  global\n",
      "enclosing function:  enclosing\n",
      "enclosing function:  local\n",
      "global message:  global\n"
     ]
    }
   ],
   "source": [
    "message = \"global\"\n",
    "\n",
    "def enclosing():\n",
    "    message = \"enclosing\"\n",
    "    \n",
    "    def local():\n",
    "        nonlocal message\n",
    "        message = \"local\"\n",
    "\n",
    "    print(\"enclosing function: \", message)\n",
    "    local()\n",
    "    print(\"enclosing function: \", message)\n",
    "\n",
    "print(\"global message: \", message)\n",
    "enclosing()\n",
    "print(\"global message: \", message)"
   ]
  },
  {
   "cell_type": "markdown",
   "metadata": {},
   "source": [
    "# Decorators\n",
    "\n",
    "modify or enhance the functions withour changing their deinations\n",
    "\n",
    "##### implemeted as callables that take and return other callable\n",
    "\n",
    "- Replace, enhance,  or modify existing function\n",
    "- Does not change the orignal function defination\n",
    "- Calling code does need not to change\n",
    "- Decorator mechanism uses the modified function's orignal name\n",
    "\n",
    "It first compliles the base function(creates a Function object) and then passes this fncyion object to the decorator.\n",
    "\n",
    "Decorator by defination takes arguement as function object as only arguement, and it returns a new callable object which is nothing but a new local function defined inside the decorator\n",
    "\n",
    "And then function binds with the orignal function name."
   ]
  },
  {
   "cell_type": "raw",
   "metadata": {},
   "source": [
    "def my_decorator(f):\n",
    "    def wrap(*args, **kwargs): # args of the my_fun\n",
    "        x = f(*args, **kwargs)\n",
    "        return x\n",
    "    return wrap\n",
    "\n",
    "@my_decorator\n",
    "def my_fun(*args, **kwargs):\n",
    "    pass"
   ]
  },
  {
   "cell_type": "markdown",
   "metadata": {},
   "source": [
    "### Function as Callables"
   ]
  },
  {
   "cell_type": "code",
   "execution_count": 10,
   "metadata": {
    "collapsed": false
   },
   "outputs": [
    {
     "name": "stdout",
     "output_type": "stream",
     "text": [
      "2\n",
      "5\n"
     ]
    }
   ],
   "source": [
    "def escape_unicode(f):\n",
    "    print(\"2\")\n",
    "    def wrap(*args, **kwargs):\n",
    "        print(\"3\")\n",
    "        x = f(*args, **kwargs)\n",
    "        print(\"4\")\n",
    "        return ascii(x)\n",
    "    print(\"5\")\n",
    "    return wrap\n",
    "\n",
    "def northen_city():\n",
    "    return \"aα\"\n",
    "\n",
    "@escape_unicode\n",
    "def northen_city1():\n",
    "    print(\"1\")\n",
    "    return \"aα\""
   ]
  },
  {
   "cell_type": "code",
   "execution_count": 6,
   "metadata": {
    "collapsed": false
   },
   "outputs": [
    {
     "data": {
      "text/plain": [
       "'aα'"
      ]
     },
     "execution_count": 6,
     "metadata": {},
     "output_type": "execute_result"
    }
   ],
   "source": [
    "northen_city()"
   ]
  },
  {
   "cell_type": "code",
   "execution_count": 11,
   "metadata": {
    "collapsed": false
   },
   "outputs": [
    {
     "name": "stdout",
     "output_type": "stream",
     "text": [
      "3\n",
      "1\n",
      "4\n"
     ]
    },
    {
     "data": {
      "text/plain": [
       "\"'a\\\\u03b1'\""
      ]
     },
     "execution_count": 11,
     "metadata": {},
     "output_type": "execute_result"
    }
   ],
   "source": [
    "northen_city1()"
   ]
  },
  {
   "cell_type": "markdown",
   "metadata": {},
   "source": [
    "### Classes as Callable\n",
    "\n",
    "Need to have \\__call__ method"
   ]
  },
  {
   "cell_type": "code",
   "execution_count": 26,
   "metadata": {
    "collapsed": true
   },
   "outputs": [],
   "source": [
    "# Call count, Class as Decorator(only if it as __Call__ method)\n",
    "\n",
    "class CallCount:\n",
    "    def __init__(self, f):\n",
    "        self.count = 0\n",
    "        self.f = f\n",
    "    \n",
    "    def __call__(self, *args, **kwargs):\n",
    "        self.count += 1\n",
    "        self.f(*args, **kwargs)\n",
    "        return self.f(*args, **kwargs)\n",
    "\n",
    "@CallCount\n",
    "def hello(name):\n",
    "    return \"Hello, {}\".format(name)\n"
   ]
  },
  {
   "cell_type": "code",
   "execution_count": 27,
   "metadata": {
    "collapsed": false
   },
   "outputs": [
    {
     "data": {
      "text/plain": [
       "'Hello, Jai'"
      ]
     },
     "execution_count": 27,
     "metadata": {},
     "output_type": "execute_result"
    }
   ],
   "source": [
    "hello(\"Jai\")"
   ]
  },
  {
   "cell_type": "code",
   "execution_count": 28,
   "metadata": {
    "collapsed": false
   },
   "outputs": [
    {
     "data": {
      "text/plain": [
       "'Hello, Deepak'"
      ]
     },
     "execution_count": 28,
     "metadata": {},
     "output_type": "execute_result"
    }
   ],
   "source": [
    "hello(\"Deepak\")"
   ]
  },
  {
   "cell_type": "code",
   "execution_count": 29,
   "metadata": {
    "collapsed": false
   },
   "outputs": [
    {
     "data": {
      "text/plain": [
       "2"
      ]
     },
     "execution_count": 29,
     "metadata": {},
     "output_type": "execute_result"
    }
   ],
   "source": [
    "hello.count"
   ]
  },
  {
   "cell_type": "markdown",
   "metadata": {},
   "source": [
    "### Instance as Decorator\n",
    "\n"
   ]
  },
  {
   "cell_type": "code",
   "execution_count": 59,
   "metadata": {
    "collapsed": true
   },
   "outputs": [],
   "source": [
    "class Trace:\n",
    "    def __init__(self):\n",
    "        self.enabled = True\n",
    "    \n",
    "    def __call__(self, f):\n",
    "        def wrap(*args, **kwargs):\n",
    "            if self.enabled:\n",
    "                print(\"Calling {}\".format(f))\n",
    "            return f(*args, **kwargs)\n",
    "        return wrap\n",
    "\n",
    "tracer = Trace()"
   ]
  },
  {
   "cell_type": "code",
   "execution_count": 47,
   "metadata": {
    "collapsed": true
   },
   "outputs": [],
   "source": [
    "@tracer\n",
    "def rotate_list(l):\n",
    "    return l[1:] + [l[0]]"
   ]
  },
  {
   "cell_type": "code",
   "execution_count": 52,
   "metadata": {
    "collapsed": false
   },
   "outputs": [
    {
     "name": "stdout",
     "output_type": "stream",
     "text": [
      "Calling <function rotate_list at 0x7f22803f46a8>\n"
     ]
    }
   ],
   "source": [
    "l = [1, 2, 3]\n",
    "m = rotate_list(l)"
   ]
  },
  {
   "cell_type": "code",
   "execution_count": 56,
   "metadata": {
    "collapsed": false
   },
   "outputs": [
    {
     "name": "stdout",
     "output_type": "stream",
     "text": [
      "Calling <function rotate_list at 0x7f22803f46a8>\n"
     ]
    }
   ],
   "source": [
    "m = rotate_list(l)"
   ]
  },
  {
   "cell_type": "code",
   "execution_count": 57,
   "metadata": {
    "collapsed": false
   },
   "outputs": [
    {
     "name": "stdout",
     "output_type": "stream",
     "text": [
      "Calling <function rotate_list at 0x7f22803f46a8>\n"
     ]
    }
   ],
   "source": [
    "m = rotate_list(l)"
   ]
  },
  {
   "cell_type": "code",
   "execution_count": 60,
   "metadata": {
    "collapsed": true
   },
   "outputs": [],
   "source": [
    "tracer.enabled = False\n",
    "m = rotate_list(l)"
   ]
  },
  {
   "cell_type": "markdown",
   "metadata": {
    "collapsed": true
   },
   "source": [
    "## Multiple Decorator"
   ]
  },
  {
   "cell_type": "raw",
   "metadata": {},
   "source": [
    "@decorator1\n",
    "@decorator2\n",
    "@decorator3\n",
    "def my_fnction():\n",
    "    ...\n",
    "    "
   ]
  },
  {
   "cell_type": "markdown",
   "metadata": {},
   "source": [
    "It first applies the decorator3 and new returned function is then passed to decorator2 and then to 1."
   ]
  },
  {
   "cell_type": "code",
   "execution_count": 64,
   "metadata": {
    "collapsed": false
   },
   "outputs": [
    {
     "name": "stdout",
     "output_type": "stream",
     "text": [
      "2\n",
      "5\n"
     ]
    }
   ],
   "source": [
    "tracer.enabled = True\n",
    "\n",
    "\n",
    "@tracer\n",
    "@escape_unicode\n",
    "def nor_weign_island_maker(name):\n",
    "    return name + \"deltaΔ\""
   ]
  },
  {
   "cell_type": "code",
   "execution_count": 65,
   "metadata": {
    "collapsed": false
   },
   "outputs": [
    {
     "name": "stdout",
     "output_type": "stream",
     "text": [
      "Calling <function escape_unicode.<locals>.wrap at 0x7f22803f9488>\n",
      "3\n",
      "4\n"
     ]
    },
    {
     "data": {
      "text/plain": [
       "\"'Jaidelta\\\\u0394'\""
      ]
     },
     "execution_count": 65,
     "metadata": {},
     "output_type": "execute_result"
    }
   ],
   "source": [
    "nor_weign_island_maker(\"Jai\")"
   ]
  },
  {
   "cell_type": "code",
   "execution_count": 66,
   "metadata": {
    "collapsed": false
   },
   "outputs": [
    {
     "name": "stdout",
     "output_type": "stream",
     "text": [
      "3\n",
      "4\n"
     ]
    },
    {
     "data": {
      "text/plain": [
       "\"'Jaidelta\\\\u0394'\""
      ]
     },
     "execution_count": 66,
     "metadata": {},
     "output_type": "execute_result"
    }
   ],
   "source": [
    "tracer.enabled = False\n",
    "nor_weign_island_maker(\"Jai\")"
   ]
  },
  {
   "cell_type": "markdown",
   "metadata": {},
   "source": [
    "### Functools.wrap()\n",
    "During applying decorators, we lose the meta data of the function which we have applied on the decorator.\n",
    "Or it overrided by the decorator meta data"
   ]
  },
  {
   "cell_type": "code",
   "execution_count": 67,
   "metadata": {
    "collapsed": true
   },
   "outputs": [],
   "source": [
    "# FOr EXAMPLE\n",
    "\n",
    "def noop(f):\n",
    "    def wrap(*args, **kwargs):\n",
    "        return f(*args, **kwargs)\n",
    "    return wrap\n",
    "\n",
    "@noop\n",
    "def hello():\n",
    "    \"\"\"Prints the hello world message\"\"\"\n",
    "    print(\"Hello world!!\")"
   ]
  },
  {
   "cell_type": "code",
   "execution_count": 68,
   "metadata": {
    "collapsed": false
   },
   "outputs": [
    {
     "data": {
      "text/plain": [
       "'wrap'"
      ]
     },
     "execution_count": 68,
     "metadata": {},
     "output_type": "execute_result"
    }
   ],
   "source": [
    "hello.__name__"
   ]
  },
  {
   "cell_type": "code",
   "execution_count": 70,
   "metadata": {
    "collapsed": true
   },
   "outputs": [],
   "source": [
    "hello.__doc__"
   ]
  },
  {
   "cell_type": "code",
   "execution_count": 72,
   "metadata": {
    "collapsed": false
   },
   "outputs": [
    {
     "name": "stdout",
     "output_type": "stream",
     "text": [
      "Help on function wrap in module __main__:\n",
      "\n",
      "wrap(*args, **kwargs)\n",
      "\n"
     ]
    }
   ],
   "source": [
    "help(hello)"
   ]
  },
  {
   "cell_type": "markdown",
   "metadata": {},
   "source": [
    "##### To avoid this losing of Meta Data, we use functools.wrap()"
   ]
  },
  {
   "cell_type": "code",
   "execution_count": 78,
   "metadata": {
    "collapsed": false
   },
   "outputs": [],
   "source": [
    "from functools import wraps\n",
    "\n",
    "def noop(f):\n",
    "    \n",
    "    @wraps(f)\n",
    "    def wrap(*args, **kwargs):\n",
    "        return f(*args, **kwargs)\n",
    "    \n",
    "    return wrap\n",
    "\n",
    "@noop\n",
    "def hello():\n",
    "    \"\"\"Prints the hello world message\"\"\"\n",
    "    print(\"Hello world!!\")"
   ]
  },
  {
   "cell_type": "code",
   "execution_count": 79,
   "metadata": {
    "collapsed": false
   },
   "outputs": [
    {
     "data": {
      "text/plain": [
       "'hello'"
      ]
     },
     "execution_count": 79,
     "metadata": {},
     "output_type": "execute_result"
    }
   ],
   "source": [
    "hello.__name__"
   ]
  },
  {
   "cell_type": "code",
   "execution_count": 81,
   "metadata": {
    "collapsed": false
   },
   "outputs": [
    {
     "data": {
      "text/plain": [
       "'Prints the hello world message'"
      ]
     },
     "execution_count": 81,
     "metadata": {},
     "output_type": "execute_result"
    }
   ],
   "source": [
    "hello.__doc__"
   ]
  },
  {
   "cell_type": "code",
   "execution_count": 82,
   "metadata": {
    "collapsed": false
   },
   "outputs": [
    {
     "name": "stdout",
     "output_type": "stream",
     "text": [
      "Help on function hello in module __main__:\n",
      "\n",
      "hello()\n",
      "    Prints the hello world message\n",
      "\n"
     ]
    }
   ],
   "source": [
    "help(hello)"
   ]
  }
 ],
 "metadata": {
  "kernelspec": {
   "display_name": "Python 3",
   "language": "python",
   "name": "python3"
  },
  "language_info": {
   "codemirror_mode": {
    "name": "ipython",
    "version": 3
   },
   "file_extension": ".py",
   "mimetype": "text/x-python",
   "name": "python",
   "nbconvert_exporter": "python",
   "pygments_lexer": "ipython3",
   "version": "3.6.3"
  }
 },
 "nbformat": 4,
 "nbformat_minor": 1
}
