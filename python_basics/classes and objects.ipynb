{
 "cells": [
  {
   "cell_type": "markdown",
   "metadata": {},
   "source": [
    "## References to an object\n"
   ]
  },
  {
   "cell_type": "code",
   "execution_count": 4,
   "metadata": {
    "collapsed": false
   },
   "outputs": [
    {
     "data": {
      "text/plain": [
       "55450096"
      ]
     },
     "execution_count": 4,
     "metadata": {},
     "output_type": "execute_result"
    }
   ],
   "source": [
    "a = 500\n",
    "id(a)\n",
    "#In this python creates a Int object and it references to 500"
   ]
  },
  {
   "cell_type": "code",
   "execution_count": 12,
   "metadata": {
    "collapsed": false
   },
   "outputs": [
    {
     "name": "stdout",
     "output_type": "stream",
     "text": [
      "55450528\n",
      "55450528\n",
      "True\n",
      "55450576\n",
      "False\n"
     ]
    }
   ],
   "source": [
    "## what if we change the value of a?\n",
    "\n",
    "a = 600\n",
    "print(id(a))\n",
    "## It will create a new object of 'a'. And Python Garbage collector removes the previous reference to 'a'\n",
    "\n",
    "b = a\n",
    "## When we assign another variable to a, the both will will reference to (int 500) object!!\n",
    "print(id(b))\n",
    "\n",
    "print(a  is b)\n",
    "\n",
    "a = 3000\n",
    "print(id(a))\n",
    "# Now a refernces to another (int 3000) object and b refernces to (int 600) object\n",
    "\n",
    "a = 500\n",
    "b = 500\n",
    "print(a is b)\n",
    "# \"is\" is used to match for same OBJECT !!"
   ]
  },
  {
   "cell_type": "code",
   "execution_count": 13,
   "metadata": {
    "collapsed": false
   },
   "outputs": [
    {
     "name": "stdout",
     "output_type": "stream",
     "text": [
      "Before Increment address of t: 1642092336\n",
      "After Increment address of t: 1642092368\n"
     ]
    }
   ],
   "source": [
    "#Consider the augmented statement\n",
    "\n",
    "t = 5\n",
    "print(\"Before Increment address of t: {}\".format(id(t)))\n",
    "t += 2\n",
    "print(\"After Increment address of t: {}\".format(id(t)))"
   ]
  },
  {
   "cell_type": "code",
   "execution_count": 15,
   "metadata": {
    "collapsed": false
   },
   "outputs": [
    {
     "name": "stdout",
     "output_type": "stream",
     "text": [
      "True\n",
      "True\n"
     ]
    }
   ],
   "source": [
    "#Lets look at some mutable objects like lists\n",
    "m = [1, 2, 3]\n",
    "n = m\n",
    "n[1] = 5\n",
    "print(n is m)\n",
    "print(n==m)\n",
    "#n and m references to same object [1,2,3]"
   ]
  },
  {
   "cell_type": "code",
   "execution_count": 17,
   "metadata": {
    "collapsed": false
   },
   "outputs": [
    {
     "name": "stdout",
     "output_type": "stream",
     "text": [
      "False\n",
      "True\n"
     ]
    }
   ],
   "source": [
    "p = [4, 5, 7]\n",
    "q = [4, 5, 7]\n",
    "# p refrences to [4, 5, 7]\n",
    "# q seper\n",
    "print(p is q)\n",
    "print(p == q)"
   ]
  },
  {
   "cell_type": "code",
   "execution_count": 23,
   "metadata": {
    "collapsed": true
   },
   "outputs": [],
   "source": [
    "#VALUE vs IDENTITY\n",
    "#VALUE == equivelent \"content\"\n",
    "#identity = same object"
   ]
  },
  {
   "cell_type": "markdown",
   "metadata": {},
   "source": [
    "## PASS BY OBJECT REFERENCE\n",
    "\n",
    "THE VALUE OF REFERNCE IS COPIED NOT THE VALUE!!"
   ]
  },
  {
   "cell_type": "code",
   "execution_count": 20,
   "metadata": {
    "collapsed": false
   },
   "outputs": [
    {
     "name": "stdout",
     "output_type": "stream",
     "text": [
      "[1, 2, 22, 4]\n"
     ]
    }
   ],
   "source": [
    "def fun(g):\n",
    "    g[2] = 22\n",
    "\n",
    "f = [1, 2, 3, 4]\n",
    "fun(f)\n",
    "print(f)\n",
    "#values of f is modified!! after call to fun() is made"
   ]
  },
  {
   "cell_type": "code",
   "execution_count": 24,
   "metadata": {
    "collapsed": false
   },
   "outputs": [
    {
     "name": "stdout",
     "output_type": "stream",
     "text": [
      "g is [1, 2, 3]\n",
      "f is [10, 20, 30, 40]\n"
     ]
    }
   ],
   "source": [
    "def my_fun(g):\n",
    "    g = [1, 2, 3]\n",
    "    print(\"g is {}\".format(g))\n",
    "    \n",
    "f = [10, 20, 30, 40]\n",
    "my_fun(f)\n",
    "print(\"f is {}\".format(f))\n",
    "    "
   ]
  },
  {
   "cell_type": "code",
   "execution_count": 27,
   "metadata": {
    "collapsed": false
   },
   "outputs": [
    {
     "name": "stdout",
     "output_type": "stream",
     "text": [
      "True\n"
     ]
    }
   ],
   "source": [
    "#LETS SHOW IT HOW\n",
    "\n",
    "def fun(x):\n",
    "    return x\n",
    "\n",
    "y = [1, 2, 3]\n",
    "z = fun(y)\n",
    "print(y is z)"
   ]
  },
  {
   "cell_type": "code",
   "execution_count": 31,
   "metadata": {
    "collapsed": false
   },
   "outputs": [
    {
     "name": "stdout",
     "output_type": "stream",
     "text": [
      "-----------\n",
      "Jai Singhal\n",
      "-----------\n",
      "***********\n",
      "Jai Singhal\n",
      "***********\n"
     ]
    }
   ],
   "source": [
    "def print_with_border(value, border = \"-\"):\n",
    "    print(border*len(value))\n",
    "    print(value)\n",
    "    print(border*len(value))\n",
    "    \n",
    "print_with_border(\"Jai Singhal\")\n",
    "print_with_border(\"Jai Singhal\", \"*\")"
   ]
  },
  {
   "cell_type": "code",
   "execution_count": 52,
   "metadata": {
    "collapsed": false
   },
   "outputs": [
    {
     "name": "stdout",
     "output_type": "stream",
     "text": [
      "Mon Sep 18 00:17:08 2017\n",
      "Mon Sep 18 00:17:08 2017\n"
     ]
    }
   ],
   "source": [
    "import time\n",
    "def check_time(arg = time.ctime()):\n",
    "    print(arg)\n",
    "check_time()\n",
    "check_time()\n"
   ]
  },
  {
   "cell_type": "code",
   "execution_count": 54,
   "metadata": {
    "collapsed": false
   },
   "outputs": [
    {
     "name": "stdout",
     "output_type": "stream",
     "text": [
      "Mon Sep 18 00:17:08 2017\n"
     ]
    }
   ],
   "source": [
    "check_time()"
   ]
  },
  {
   "cell_type": "code",
   "execution_count": 55,
   "metadata": {
    "collapsed": false
   },
   "outputs": [
    {
     "name": "stdout",
     "output_type": "stream",
     "text": [
      "Mon Sep 18 00:17:08 2017\n"
     ]
    }
   ],
   "source": [
    "check_time()"
   ]
  },
  {
   "cell_type": "markdown",
   "metadata": {},
   "source": [
    "# It is giving the same time!!\n",
    "Defalut arguement are executed once only when function defination binds"
   ]
  },
  {
   "cell_type": "code",
   "execution_count": 69,
   "metadata": {
    "collapsed": false
   },
   "outputs": [
    {
     "data": {
      "text/plain": [
       "['bread', 'butter', 'sauce', 'spam']"
      ]
     },
     "execution_count": 69,
     "metadata": {},
     "output_type": "execute_result"
    }
   ],
   "source": [
    "def my_breakfast(menu = []):\n",
    "    menu.append(\"spam\")\n",
    "    return menu\n",
    "my_breakfast([\"bread\", \"butter\"])\n",
    "my_breakfast([\"bread\", \"butter\", \"sauce\"])"
   ]
  },
  {
   "cell_type": "code",
   "execution_count": 70,
   "metadata": {
    "collapsed": false
   },
   "outputs": [
    {
     "data": {
      "text/plain": [
       "['spam']"
      ]
     },
     "execution_count": 70,
     "metadata": {},
     "output_type": "execute_result"
    }
   ],
   "source": [
    "my_breakfast()"
   ]
  },
  {
   "cell_type": "code",
   "execution_count": 71,
   "metadata": {
    "collapsed": false
   },
   "outputs": [
    {
     "data": {
      "text/plain": [
       "['spam', 'spam']"
      ]
     },
     "execution_count": 71,
     "metadata": {},
     "output_type": "execute_result"
    }
   ],
   "source": [
    "my_breakfast()"
   ]
  },
  {
   "cell_type": "code",
   "execution_count": 72,
   "metadata": {
    "collapsed": false
   },
   "outputs": [
    {
     "data": {
      "text/plain": [
       "['spam', 'spam', 'spam']"
      ]
     },
     "execution_count": 72,
     "metadata": {},
     "output_type": "execute_result"
    }
   ],
   "source": [
    "my_breakfast()"
   ]
  },
  {
   "cell_type": "markdown",
   "metadata": {},
   "source": [
    "As we have discussed that default arguement are executed once, when function binds. So if we call the function more and more \n",
    "times, the default arguemt empty list. So it grows as many times it is called"
   ]
  },
  {
   "cell_type": "code",
   "execution_count": 86,
   "metadata": {
    "collapsed": true
   },
   "outputs": [],
   "source": [
    "#Solution to above problem\n",
    "\n",
    "def my_new_breakfast(menu = None):\n",
    "    if menu is None:\n",
    "        menu = []\n",
    "\n",
    "    menu.append(\"spam\")\n",
    "    return menu\n"
   ]
  },
  {
   "cell_type": "code",
   "execution_count": 87,
   "metadata": {
    "collapsed": false
   },
   "outputs": [
    {
     "data": {
      "text/plain": [
       "['spam']"
      ]
     },
     "execution_count": 87,
     "metadata": {},
     "output_type": "execute_result"
    }
   ],
   "source": [
    "my_new_breakfast()"
   ]
  },
  {
   "cell_type": "code",
   "execution_count": 88,
   "metadata": {
    "collapsed": false
   },
   "outputs": [
    {
     "data": {
      "text/plain": [
       "['spam']"
      ]
     },
     "execution_count": 88,
     "metadata": {},
     "output_type": "execute_result"
    }
   ],
   "source": [
    "my_new_breakfast()"
   ]
  },
  {
   "cell_type": "code",
   "execution_count": 89,
   "metadata": {
    "collapsed": false
   },
   "outputs": [
    {
     "data": {
      "text/plain": [
       "['spam']"
      ]
     },
     "execution_count": 89,
     "metadata": {},
     "output_type": "execute_result"
    }
   ],
   "source": [
    "my_new_breakfast()"
   ]
  },
  {
   "cell_type": "code",
   "execution_count": 92,
   "metadata": {
    "collapsed": false
   },
   "outputs": [
    {
     "data": {
      "text/plain": [
       "['bread', 'spam']"
      ]
     },
     "execution_count": 92,
     "metadata": {},
     "output_type": "execute_result"
    }
   ],
   "source": [
    "my_new_breakfast([\"bread\"])"
   ]
  },
  {
   "cell_type": "markdown",
   "metadata": {
    "collapsed": true
   },
   "source": [
    "## Python Scoping Rules!!\n",
    "\n",
    "Scope are contexts in which named references can be looked up!!\n",
    "\n",
    "Local := Defined in a current function<br>\n",
    "Enclosing :- Any and all Enclosing Functions<br>\n",
    "Global :- Top Level Module<br>\n",
    "Built in :- Provided by Builtins Modules<br>\n",
    "\n",
    "Note: Indented blocks do not introduce new scopes. like with, for, while statement..\n"
   ]
  },
  {
   "cell_type": "code",
   "execution_count": 26,
   "metadata": {
    "collapsed": true
   },
   "outputs": [],
   "source": [
    "#Consider following code snippt\n",
    "\n",
    "count = 0\n",
    "def show_count():\n",
    "    print(\"Count: \", count)\n",
    "    \n",
    "def set_count(c):\n",
    "    count = c\n"
   ]
  },
  {
   "cell_type": "code",
   "execution_count": 27,
   "metadata": {
    "collapsed": false
   },
   "outputs": [
    {
     "name": "stdout",
     "output_type": "stream",
     "text": [
      "Count:  0\n"
     ]
    }
   ],
   "source": [
    "show_count()"
   ]
  },
  {
   "cell_type": "code",
   "execution_count": 25,
   "metadata": {
    "collapsed": false
   },
   "outputs": [
    {
     "name": "stdout",
     "output_type": "stream",
     "text": [
      "Count:  0\n"
     ]
    }
   ],
   "source": [
    "set_count(5)\n",
    "show_count()\n",
    "#It will print the global variable because a new variable is created named count in the local of the function and destroys after\n",
    "#the function call finishes"
   ]
  },
  {
   "cell_type": "code",
   "execution_count": 28,
   "metadata": {
    "collapsed": true
   },
   "outputs": [],
   "source": [
    "#New keyword \"global\"\n",
    "def set_count(c):\n",
    "    global count\n",
    "    count = c"
   ]
  },
  {
   "cell_type": "code",
   "execution_count": 29,
   "metadata": {
    "collapsed": false
   },
   "outputs": [
    {
     "name": "stdout",
     "output_type": "stream",
     "text": [
      "Count:  0\n",
      "Count:  10\n"
     ]
    }
   ],
   "source": [
    "show_count()\n",
    "set_count(10)\n",
    "show_count()"
   ]
  },
  {
   "cell_type": "markdown",
   "metadata": {},
   "source": [
    "## IN PYTHON EVERYTHING IS OBJECT!!\n",
    "OBJECTS, FUNCTIONS, INT ETC ARE ALL OBJECTS!!"
   ]
  },
  {
   "cell_type": "code",
   "execution_count": 38,
   "metadata": {
    "collapsed": false
   },
   "outputs": [
    {
     "data": {
      "text/plain": [
       "module"
      ]
     },
     "execution_count": 38,
     "metadata": {},
     "output_type": "execute_result"
    }
   ],
   "source": [
    "import words\n",
    "type(words)"
   ]
  },
  {
   "cell_type": "code",
   "execution_count": 34,
   "metadata": {
    "collapsed": false
   },
   "outputs": [
    {
     "data": {
      "text/plain": [
       "['__builtins__',\n",
       " '__cached__',\n",
       " '__doc__',\n",
       " '__file__',\n",
       " '__loader__',\n",
       " '__name__',\n",
       " '__package__',\n",
       " '__spec__',\n",
       " 'fetch_words',\n",
       " 'main',\n",
       " 'print_items',\n",
       " 'sys',\n",
       " 'urlopen']"
      ]
     },
     "execution_count": 34,
     "metadata": {},
     "output_type": "execute_result"
    }
   ],
   "source": [
    "dir(words)"
   ]
  },
  {
   "cell_type": "code",
   "execution_count": 36,
   "metadata": {
    "collapsed": false
   },
   "outputs": [
    {
     "data": {
      "text/plain": [
       "function"
      ]
     },
     "execution_count": 36,
     "metadata": {},
     "output_type": "execute_result"
    }
   ],
   "source": [
    "from words import fetch_words\n",
    "type(fetch_words)"
   ]
  },
  {
   "cell_type": "code",
   "execution_count": 40,
   "metadata": {
    "collapsed": false
   },
   "outputs": [
    {
     "data": {
      "text/plain": [
       "['__annotations__',\n",
       " '__call__',\n",
       " '__class__',\n",
       " '__closure__',\n",
       " '__code__',\n",
       " '__defaults__',\n",
       " '__delattr__',\n",
       " '__dict__',\n",
       " '__dir__',\n",
       " '__doc__',\n",
       " '__eq__',\n",
       " '__format__',\n",
       " '__ge__',\n",
       " '__get__',\n",
       " '__getattribute__',\n",
       " '__globals__',\n",
       " '__gt__',\n",
       " '__hash__',\n",
       " '__init__',\n",
       " '__init_subclass__',\n",
       " '__kwdefaults__',\n",
       " '__le__',\n",
       " '__lt__',\n",
       " '__module__',\n",
       " '__name__',\n",
       " '__ne__',\n",
       " '__new__',\n",
       " '__qualname__',\n",
       " '__reduce__',\n",
       " '__reduce_ex__',\n",
       " '__repr__',\n",
       " '__setattr__',\n",
       " '__sizeof__',\n",
       " '__str__',\n",
       " '__subclasshook__']"
      ]
     },
     "execution_count": 40,
     "metadata": {},
     "output_type": "execute_result"
    }
   ],
   "source": [
    "dir(fetch_words)"
   ]
  },
  {
   "cell_type": "code",
   "execution_count": 49,
   "metadata": {
    "collapsed": false
   },
   "outputs": [
    {
     "name": "stdout",
     "output_type": "stream",
     "text": [
      "fetch_words\n",
      "\n",
      "\n",
      "Fetches the word from the url\n",
      "\n",
      "    Args:\n",
      "        A live url\n",
      "\n",
      "    Returns:\n",
      "         Collection of iterable words\n",
      "\n",
      "\n",
      "<method-wrapper '__init__' of function object at 0x0352E9C0>\n"
     ]
    }
   ],
   "source": [
    "print(fetch_words.__name__)\n",
    "print(\"\\n\")\n",
    "print(fetch_words.__doc__)\n",
    "print(\"\\n\")\n",
    "print(fetch_words.__init__)"
   ]
  },
  {
   "cell_type": "markdown",
   "metadata": {},
   "source": [
    "## Summary\n",
    "\n",
    "1. Think of named references to objects rather than variables\n",
    "    1.1 Assignment attaches name with the reference\n",
    "    1.2 Assigning from one reference with another puts two name tags on same object.\n",
    "    \n",
    "2. The garbage collector reclaims unreacable objects.\n",
    "\n",
    "3. id() returns a unique and constant identifier\n",
    "\n",
    "4. The \"is\" operator is used to determine equality of identity\n",
    "\n",
    "5. Test of equivalence is using by \"==\"\n",
    "\n",
    "6. Function arguements are passed by reference\n",
    "    6.1 function CAN MODIFY the MUTABLE objects\n",
    "\n",
    "7. return also passes by object reference"
   ]
  },
  {
   "cell_type": "markdown",
   "metadata": {},
   "source": [
    "8. Function arguements can be specified by defaults\n",
    "9. Default arguemets expression evaluated once, when function def is executed\n",
    "10. Python uses Dynamic typing\n",
    "11. Names are looked up in four nested scopes\n",
    "        \"LEGB\" RULE: Local, Enclosing, Global and Builtins\n",
    "\n",
    "12. Global refernces can be read form local scopes\n",
    "13. Use \"global\" to assign global refernces from local scope\n",
    "14. Everyting in Python is object, including modules and fuctions\n",
    "15. import and def results in binding to named references\n",
    "16. type() is used to determine the type of the object\n",
    "17. dir() is used to introspect the object and get its attribute\n",
    "18. The name of the function/module can be accessed through __name__ method, and docstring by __doc__"
   ]
  },
  {
   "cell_type": "code",
   "execution_count": 95,
   "metadata": {
    "collapsed": false
   },
   "outputs": [
    {
     "data": {
      "text/plain": [
       "['__abs__',\n",
       " '__add__',\n",
       " '__and__',\n",
       " '__bool__',\n",
       " '__ceil__',\n",
       " '__class__',\n",
       " '__delattr__',\n",
       " '__dir__',\n",
       " '__divmod__',\n",
       " '__doc__',\n",
       " '__eq__',\n",
       " '__float__',\n",
       " '__floor__',\n",
       " '__floordiv__',\n",
       " '__format__',\n",
       " '__ge__',\n",
       " '__getattribute__',\n",
       " '__getnewargs__',\n",
       " '__gt__',\n",
       " '__hash__',\n",
       " '__index__',\n",
       " '__init__',\n",
       " '__init_subclass__',\n",
       " '__int__',\n",
       " '__invert__',\n",
       " '__le__',\n",
       " '__lshift__',\n",
       " '__lt__',\n",
       " '__mod__',\n",
       " '__mul__',\n",
       " '__ne__',\n",
       " '__neg__',\n",
       " '__new__',\n",
       " '__or__',\n",
       " '__pos__',\n",
       " '__pow__',\n",
       " '__radd__',\n",
       " '__rand__',\n",
       " '__rdivmod__',\n",
       " '__reduce__',\n",
       " '__reduce_ex__',\n",
       " '__repr__',\n",
       " '__rfloordiv__',\n",
       " '__rlshift__',\n",
       " '__rmod__',\n",
       " '__rmul__',\n",
       " '__ror__',\n",
       " '__round__',\n",
       " '__rpow__',\n",
       " '__rrshift__',\n",
       " '__rshift__',\n",
       " '__rsub__',\n",
       " '__rtruediv__',\n",
       " '__rxor__',\n",
       " '__setattr__',\n",
       " '__sizeof__',\n",
       " '__str__',\n",
       " '__sub__',\n",
       " '__subclasshook__',\n",
       " '__truediv__',\n",
       " '__trunc__',\n",
       " '__xor__',\n",
       " 'bit_length',\n",
       " 'conjugate',\n",
       " 'denominator',\n",
       " 'from_bytes',\n",
       " 'imag',\n",
       " 'numerator',\n",
       " 'real',\n",
       " 'to_bytes']"
      ]
     },
     "execution_count": 95,
     "metadata": {},
     "output_type": "execute_result"
    }
   ],
   "source": [
    "a = 5\n",
    "dir(a)\n"
   ]
  },
  {
   "cell_type": "code",
   "execution_count": null,
   "metadata": {
    "collapsed": true
   },
   "outputs": [],
   "source": []
  }
 ],
 "metadata": {
  "anaconda-cloud": {},
  "kernelspec": {
   "display_name": "Python 3",
   "language": "python",
   "name": "python3"
  },
  "language_info": {
   "codemirror_mode": {
    "name": "ipython",
    "version": 3
   },
   "file_extension": ".py",
   "mimetype": "text/x-python",
   "name": "python",
   "nbconvert_exporter": "python",
   "pygments_lexer": "ipython3",
   "version": "3.6.3"
  }
 },
 "nbformat": 4,
 "nbformat_minor": 2
}
