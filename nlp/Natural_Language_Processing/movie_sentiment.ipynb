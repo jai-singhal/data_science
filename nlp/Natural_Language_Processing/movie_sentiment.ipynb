{
 "cells": [
  {
   "cell_type": "code",
   "execution_count": 30,
   "metadata": {
    "ExecuteTime": {
     "end_time": "2019-03-08T12:35:49.108026Z",
     "start_time": "2019-03-08T12:35:49.102041Z"
    }
   },
   "outputs": [],
   "source": [
    "import nltk\n",
    "import random\n",
    "from nltk.corpus import movie_reviews\n",
    "from nltk.corpus import stopwords\n"
   ]
  },
  {
   "cell_type": "code",
   "execution_count": 20,
   "metadata": {
    "ExecuteTime": {
     "end_time": "2019-03-08T12:31:12.258038Z",
     "start_time": "2019-03-08T12:31:03.547174Z"
    }
   },
   "outputs": [],
   "source": [
    "documents = [(list(movie_reviews.words(fileid)),category)\n",
    "              for category in movie_reviews.categories()\n",
    "               for fileid in movie_reviews.fileids(category)\n",
    "            ]\n",
    "random.shuffle(documents)"
   ]
  },
  {
   "cell_type": "code",
   "execution_count": 21,
   "metadata": {
    "ExecuteTime": {
     "end_time": "2019-03-08T12:31:15.717727Z",
     "start_time": "2019-03-08T12:31:15.708752Z"
    }
   },
   "outputs": [
    {
     "name": "stdout",
     "output_type": "stream",
     "text": [
      "['i', 'think', 'of', 'i', 'know', 'what', 'you', 'did', 'last', 'summer', 'as', 'the', 'movie', 'that', 'scream'] neg\n"
     ]
    }
   ],
   "source": [
    "print(documents[0][0][0:15], documents[0][1])"
   ]
  },
  {
   "cell_type": "code",
   "execution_count": 34,
   "metadata": {
    "ExecuteTime": {
     "end_time": "2019-03-08T12:37:47.624660Z",
     "start_time": "2019-03-08T12:37:32.544026Z"
    }
   },
   "outputs": [
    {
     "data": {
      "text/plain": [
       "253"
      ]
     },
     "execution_count": 34,
     "metadata": {},
     "output_type": "execute_result"
    }
   ],
   "source": [
    "stop_words = stopwords.words(\"english\")\n",
    "all_words = [w.lower() for w in movie_reviews.words() \n",
    "                 if w not in stop_words]\n",
    "all_words = nltk.FreqDist(all_words)\n",
    "# all_words[\"stupid\"]"
   ]
  },
  {
   "cell_type": "code",
   "execution_count": null,
   "metadata": {},
   "outputs": [],
   "source": []
  }
 ],
 "metadata": {
  "kernelspec": {
   "display_name": "Python 3",
   "language": "python",
   "name": "python3"
  },
  "language_info": {
   "codemirror_mode": {
    "name": "ipython",
    "version": 3
   },
   "file_extension": ".py",
   "mimetype": "text/x-python",
   "name": "python",
   "nbconvert_exporter": "python",
   "pygments_lexer": "ipython3",
   "version": "3.7.1"
  }
 },
 "nbformat": 4,
 "nbformat_minor": 2
}
