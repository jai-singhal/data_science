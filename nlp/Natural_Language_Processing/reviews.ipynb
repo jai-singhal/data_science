{
 "cells": [
  {
   "cell_type": "code",
   "execution_count": 9,
   "metadata": {
    "ExecuteTime": {
     "end_time": "2019-03-06T14:31:50.677747Z",
     "start_time": "2019-03-06T14:31:48.483802Z"
    }
   },
   "outputs": [
    {
     "name": "stderr",
     "output_type": "stream",
     "text": [
      "[nltk_data] Downloading package stopwords to\n",
      "[nltk_data]     C:\\Users\\user\\AppData\\Roaming\\nltk_data...\n",
      "[nltk_data]   Package stopwords is already up-to-date!\n"
     ]
    }
   ],
   "source": [
    "import numpy as np\n",
    "import pandas as pd\n",
    "import matplotlib.pyplot as plt\n",
    "import re\n",
    "import nltk\n",
    "nltk.download(\"stopwords\")\n",
    "from nltk.corpus import stopwords\n",
    "from nltk.stem.porter import PorterStemmer"
   ]
  },
  {
   "cell_type": "code",
   "execution_count": 10,
   "metadata": {
    "ExecuteTime": {
     "end_time": "2019-03-06T14:39:52.039580Z",
     "start_time": "2019-03-06T14:39:52.007670Z"
    }
   },
   "outputs": [],
   "source": [
    "dataset = pd.read_csv(\"./Restaurant_Reviews.tsv\", delimiter=\"\\t\", quoting=3)"
   ]
  },
  {
   "cell_type": "code",
   "execution_count": 24,
   "metadata": {
    "ExecuteTime": {
     "end_time": "2019-03-06T14:49:22.035801Z",
     "start_time": "2019-03-06T14:49:21.615761Z"
    }
   },
   "outputs": [],
   "source": [
    "# Data cleaning(cleaning the text)\n",
    "corpus = []\n",
    "stop_words = stopwords.words(\"english\")\n",
    "for i in range(1, len(dataset)):\n",
    "    review = dataset[\"Review\"][i]\n",
    "    review = re.sub(r'[^a-zA-Z]', ' ', review).lower().split()\n",
    "    # remove morphological affixes from words, leaving only the word stem\n",
    "    ps = PorterStemmer()\n",
    "    review = [ps.stem(word) for word in review if word not in stop_words]\n",
    "    review = \" \".join(review)\n",
    "    corpus.append(review)"
   ]
  },
  {
   "cell_type": "code",
   "execution_count": 44,
   "metadata": {
    "ExecuteTime": {
     "end_time": "2019-03-06T15:01:21.939572Z",
     "start_time": "2019-03-06T15:01:21.899642Z"
    }
   },
   "outputs": [],
   "source": [
    "# creating bag of words model\n",
    "from sklearn.feature_extraction.text import CountVectorizer\n",
    "\n",
    "cv = CountVectorizer(max_features=1500)\n",
    "\n",
    "X = cv.fit_transform(corpus).toarray()\n",
    "\n",
    "Y = dataset.iloc[:,1]\n"
   ]
  }
 ],
 "metadata": {
  "kernelspec": {
   "display_name": "Python 3",
   "language": "python",
   "name": "python3"
  },
  "language_info": {
   "codemirror_mode": {
    "name": "ipython",
    "version": 3
   },
   "file_extension": ".py",
   "mimetype": "text/x-python",
   "name": "python",
   "nbconvert_exporter": "python",
   "pygments_lexer": "ipython3",
   "version": "3.7.1"
  }
 },
 "nbformat": 4,
 "nbformat_minor": 2
}
