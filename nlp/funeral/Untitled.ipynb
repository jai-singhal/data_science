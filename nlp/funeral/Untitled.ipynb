{
 "cells": [
  {
   "cell_type": "code",
   "execution_count": 15,
   "metadata": {
    "ExecuteTime": {
     "end_time": "2019-03-06T12:32:23.183110Z",
     "start_time": "2019-03-06T12:32:22.672244Z"
    }
   },
   "outputs": [
    {
     "name": "stdout",
     "output_type": "stream",
     "text": [
      "Robert K. Caulk was never ready to hang up his tennis racket.\n",
      "Not when headlines decreed him the nation’s oldest college tennis player at age 39.And not in his 80s, when, for most people, tennis is a spectator sport.\n",
      "“He did have a great love for tennis, and he was very, very good,” said Joe Carter, Caulk’s friend, longtime doubles partner and neighbor in Woodstock’s Eagle Watch subdivision. “When he was younger, I’m sure he was almost unbeatable.”Robert “Bob” Kemp Caulk, Jr. — a 32-year IBM executive, devoted family man, avid tennis player and overall sports enthusiast — died Feb. 9 with a dozen family members at his side. He was 87.\n",
      "A private graveside service was Friday.Caulk was born Sept. 20, 1931, in Pen Argyl, near Allentown, Pa.He lived for decades in the Northeast, uprooting his wife and five children about every two years as he was promoted at IBM, son Steve Caulk said.\n",
      "But when he was transferred to Atlanta in 1977, Robert Caulk told his bosses he wouldn’t be moving again.“He just loved Atlanta,” his son said, noting that the city’s far-more-favorable-for-tennis weather was undoubtedly a factor.For years, Caulk played with the Atlanta Lawn Tennis Association, and, was, at one time, Georgia’s third-ranked tennis player in his age group.“He was extremely, extremely competitive. But he was always nice, and, whether he won or lost, he took it in stride,” said Carter, 67, who was Caulk’s doubles partner in ALTA for more than a decade.Caulk was out on the court with his buddies at Eagle Watch until he was 84, when his impaired sense of balance made playing too dangerous, son Steve said.Woodstock resident Tim Turner often partnered with Caulk, who was 25 years older.“If you were to hit the ball back to him, you were going to eat it,” he said.Besides tennis, Caulk enjoyed bowling, ping-pong, gardening, pinochle, softball and reading the Sunday “funnies.”He also loved taking long hikes with his family, and he climbed the 14,000-foot Gray’s Peak in Colorado in his late 60s.Carter and Turner credited Caulk with introducing their subdivision to pickleball, a paddle sport that combines elements of badminton, tennis, and table tennis.“Now, we must have hundreds of people playing pickleball at Eagle watch and really all over Cherokee County,” Carter said.Caulk’s family described him as a natural athlete, who was a high jumper, as well his class president, in high school.His 67-year love affair with wife “Gerry” began there.Steve said his father often shared that he was so smitten with Gerry, the prom queen, that he cut her picture out of the newspaper and kept it under his pillow.The two married in 1952, just days before he left for the Air Force, assignments in Okinawa, Biloxi, Miss., and San Diego and training in radar technology.After his military service, Caulk wanted to go to college but couldn’t afford it.Nineteen years later, he was given another chance. IBM sent him to Pace College in New York as part of a company program for promising employees.Caulk graduated cum laude from Pace in 1973 and made The New York Daily News – at 39 – as the nation’s oldest NCAA college player, his family said.Son Steve said he picked up his father’s passion for tennis early in life but didn’t get serious about the sport until his mid-30s.At that time, he decided he needed to set a lofty goal for himself: beating his father.“It only took me 13 years, and Dad was 68 at the time,” he said, laughing.Caulk was devoted to his family and would be cheering on the sidelines when his children and grandchildren pursued their interests in basketball, swimming and other sports.“My dad was religious about attending all the grandchildren’s sporting events,” Steve said. “His family was his No. 1 priority, even more important than tennis.”The two were together about a year ago, and Steve Caulk posed a question to his dad: “What’s the one thing you want to do before the end of your life?”He said his father responded: “I just want to know I have provided for my family. That’s all I care about.”Caulk is survived by wife Gerry; five children, Steve, Thomas, James, Barbara and David; 13 grandchildren and four great-grandchildren.In lieu of flowers, contributions may be made to the American Heart Association.\n",
      "X\n",
      "\n",
      "[] ['Robert', 'Joe Carter', 'Caulk', 'Woodstock', 'Eagle Watch', 'Robert', 'Bob', 'Pen Argyl', 'Steve Caulk', 'Robert Caulk', 'Atlanta', 'Caulk', 'Atlanta Lawn Tennis Association', 'Georgia', 'Carter', 'Caulk', 'Eagle Watch', 'Steve', 'Tim Turner', 'Caulk', 'Caulk', 'Peak Colorado', 'Turner', 'Caulk', 'Cherokee County', 'Gerry', 'Gerry', 'Air Force', 'Okinawa', 'Biloxi', 'San Diego', 'Caulk', 'Pace College New York', 'Daily News', 'Steve', 'Steve', 'Steve Caulk', 'Caulk', 'Gerry', 'Steve', 'Thomas', 'James', 'Barbara David'] []\n"
     ]
    }
   ],
   "source": [
    "# information-extraction.py\n",
    "\n",
    "import re\n",
    "import nltk\n",
    "from nltk.corpus import stopwords\n",
    "\n",
    "# nltk.download('punkt')\n",
    "# nltk.download('stopwords')\n",
    "# nltk.download('averaged_perceptron_tagger')\n",
    "# nltk.download('words')\n",
    "# nltk.download('maxent_ne_chunker')\n",
    "\n",
    "stop = stopwords.words('english')\n",
    "\n",
    "fp = open(\"./1.txt\", \"r\")\n",
    "string = str(fp.read())\n",
    "print(string)\n",
    "# string = \"\"\"\n",
    "# Hey,\n",
    "# This week has been crazy. Attached is my report on IBM. Can you give it a quick read and provide some feedback.\n",
    "# Also, make sure you reach out to Claire (claire@xyz.com).\n",
    "# You're the best.\n",
    "# Cheers,\n",
    "# George W.\n",
    "# 212-555-1234\n",
    "# \"\"\"\n",
    "\n",
    "def extract_phone_numbers(string):\n",
    "    r = re.compile(r'(\\d{3}[-\\.\\s]??\\d{3}[-\\.\\s]??\\d{4}|\\(\\d{3}\\)\\s*\\d{3}[-\\.\\s]??\\d{4}|\\d{3}[-\\.\\s]??\\d{4})')\n",
    "    phone_numbers = r.findall(string)\n",
    "    return [re.sub(r'\\D', '', number) for number in phone_numbers]\n",
    "\n",
    "def extract_email_addresses(string):\n",
    "    r = re.compile(r'[\\w\\.-]+@[\\w\\.-]+')\n",
    "    return r.findall(string)\n",
    "\n",
    "def ie_preprocess(document):\n",
    "    document = ' '.join([i for i in document.split() if i not in stop])\n",
    "    sentences = nltk.sent_tokenize(document)\n",
    "    sentences = [nltk.word_tokenize(sent) for sent in sentences]\n",
    "    sentences = [nltk.pos_tag(sent) for sent in sentences]\n",
    "    return sentences\n",
    "\n",
    "def extract_names(document):\n",
    "    names = []\n",
    "    sentences = ie_preprocess(document)\n",
    "    for tagged_sentence in sentences:\n",
    "        for chunk in nltk.ne_chunk(tagged_sentence):\n",
    "            if type(chunk) == nltk.tree.Tree:\n",
    "                if chunk.label() == 'PERSON':\n",
    "                    names.append(' '.join([c[0] for c in chunk]))\n",
    "    return names\n",
    "\n",
    "if __name__ == '__main__':\n",
    "    numbers = extract_phone_numbers(string)\n",
    "    emails = extract_email_addresses(string)\n",
    "    names = extract_names(string)\n",
    "    print(numbers, names, emails)"
   ]
  }
 ],
 "metadata": {
  "kernelspec": {
   "display_name": "Python 3",
   "language": "python",
   "name": "python3"
  },
  "language_info": {
   "codemirror_mode": {
    "name": "ipython",
    "version": 3
   },
   "file_extension": ".py",
   "mimetype": "text/x-python",
   "name": "python",
   "nbconvert_exporter": "python",
   "pygments_lexer": "ipython3",
   "version": "3.7.1"
  }
 },
 "nbformat": 4,
 "nbformat_minor": 2
}
