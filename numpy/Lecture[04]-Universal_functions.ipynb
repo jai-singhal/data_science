{
 "cells": [
  {
   "cell_type": "code",
   "execution_count": 1,
   "metadata": {},
   "outputs": [],
   "source": [
    "import numpy as np"
   ]
  },
  {
   "cell_type": "code",
   "execution_count": 11,
   "metadata": {},
   "outputs": [
    {
     "data": {
      "text/plain": [
       "array([  0,  15,  30,  45,  60,  75,  90, 105, 120, 135, 150, 165, 180])"
      ]
     },
     "execution_count": 11,
     "metadata": {},
     "output_type": "execute_result"
    }
   ],
   "source": [
    "angles = np.arange(0, 181, 15)\n",
    "angles"
   ]
  },
  {
   "cell_type": "code",
   "execution_count": 12,
   "metadata": {},
   "outputs": [
    {
     "data": {
      "text/plain": [
       "array([0.        , 0.26179939, 0.52359878, 0.78539816, 1.04719755,\n",
       "       1.30899694, 1.57079633, 1.83259571, 2.0943951 , 2.35619449,\n",
       "       2.61799388, 2.87979327, 3.14159265])"
      ]
     },
     "execution_count": 12,
     "metadata": {},
     "output_type": "execute_result"
    }
   ],
   "source": [
    "radians = angles*np.pi/180\n",
    "radians"
   ]
  },
  {
   "cell_type": "code",
   "execution_count": 23,
   "metadata": {},
   "outputs": [
    {
     "data": {
      "text/plain": [
       "array([0.        , 0.25881905, 0.5       , 0.70710678, 0.8660254 ,\n",
       "       0.96592583, 1.        , 0.96592583, 0.8660254 , 0.70710678,\n",
       "       0.5       , 0.25881905, 0.        ])"
      ]
     },
     "execution_count": 23,
     "metadata": {},
     "output_type": "execute_result"
    }
   ],
   "source": [
    "sin = np.sin(radians)\n",
    "np.set_printoptions(suppress=True)\n",
    "sin"
   ]
  },
  {
   "cell_type": "code",
   "execution_count": 24,
   "metadata": {},
   "outputs": [
    {
     "data": {
      "text/plain": [
       "array([ 1.        ,  0.96592583,  0.8660254 ,  0.70710678,  0.5       ,\n",
       "        0.25881905,  0.        , -0.25881905, -0.5       , -0.70710678,\n",
       "       -0.8660254 , -0.96592583, -1.        ])"
      ]
     },
     "execution_count": 24,
     "metadata": {},
     "output_type": "execute_result"
    }
   ],
   "source": [
    "cos = np.cos(radians)\n",
    "cos"
   ]
  },
  {
   "cell_type": "code",
   "execution_count": 26,
   "metadata": {},
   "outputs": [
    {
     "data": {
      "text/plain": [
       "array([ 0.00000000e+00,  2.67949192e-01,  5.77350269e-01,  1.00000000e+00,\n",
       "        1.73205081e+00,  3.73205081e+00,  1.63312394e+16, -3.73205081e+00,\n",
       "       -1.73205081e+00, -1.00000000e+00, -5.77350269e-01, -2.67949192e-01,\n",
       "       -1.22464680e-16])"
      ]
     },
     "execution_count": 26,
     "metadata": {},
     "output_type": "execute_result"
    }
   ],
   "source": [
    "tan = np.tan(radians)\n",
    "tan"
   ]
  },
  {
   "cell_type": "code",
   "execution_count": 32,
   "metadata": {},
   "outputs": [
    {
     "name": "stdout",
     "output_type": "stream",
     "text": [
      "Sin Inverse\n"
     ]
    },
    {
     "data": {
      "text/plain": [
       "array([ 0., 15., 30., 45., 60., 75., 90., 75., 60., 45., 30., 15.,  0.])"
      ]
     },
     "execution_count": 32,
     "metadata": {},
     "output_type": "execute_result"
    }
   ],
   "source": [
    "# inverse sin\n",
    "sin = np.sin(angles*np.pi/180)\n",
    "print(\"Sin Inverse\")\n",
    "sin_inv = np.arcsin(sin)\n",
    "sin_inv = np.degrees(sin_inv)\n",
    "sin_inv"
   ]
  },
  {
   "cell_type": "code",
   "execution_count": null,
   "metadata": {},
   "outputs": [],
   "source": []
  }
 ],
 "metadata": {
  "kernelspec": {
   "display_name": "Python 3",
   "language": "python",
   "name": "python3"
  },
  "language_info": {
   "codemirror_mode": {
    "name": "ipython",
    "version": 3
   },
   "file_extension": ".py",
   "mimetype": "text/x-python",
   "name": "python",
   "nbconvert_exporter": "python",
   "pygments_lexer": "ipython3",
   "version": "3.7.1"
  }
 },
 "nbformat": 4,
 "nbformat_minor": 2
}
